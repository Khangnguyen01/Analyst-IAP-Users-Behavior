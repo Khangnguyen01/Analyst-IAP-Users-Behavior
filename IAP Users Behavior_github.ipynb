{
 "cells": [
  {
   "cell_type": "code",
   "id": "initial_id",
   "metadata": {
    "collapsed": true,
    "ExecuteTime": {
     "end_time": "2025-08-18T02:23:40.250729Z",
     "start_time": "2025-08-18T02:23:27.997124Z"
    }
   },
   "source": [
    "import pandas as pd\n",
    "import numpy as np\n",
    "import matplotlib.pyplot as plt\n",
    "import seaborn as sns\n",
    "from matplotlib import ticker\n",
    "from matplotlib.ticker import FuncFormatter, MaxNLocator, MultipleLocator\n",
    "from google.cloud import bigquery\n",
    "import retentioneering as rt\n",
    "from retentioneering.eventstream import Eventstream\n",
    "import datetime as dt\n",
    "import re\n",
    "import math"
   ],
   "outputs": [],
   "execution_count": 1
  },
  {
   "metadata": {
    "ExecuteTime": {
     "end_time": "2025-08-18T02:23:44.613383Z",
     "start_time": "2025-08-18T02:23:40.264216Z"
    }
   },
   "cell_type": "code",
   "source": "client = bigquery.Client()",
   "id": "af295b8817df90a4",
   "outputs": [],
   "execution_count": 2
  },
  {
   "metadata": {
    "ExecuteTime": {
     "end_time": "2025-08-18T02:23:45.020759Z",
     "start_time": "2025-08-18T02:23:45.011382Z"
    }
   },
   "cell_type": "code",
   "source": [
    "start_date = '2025-07-01'\n",
    "end_date = '2025-07-31'"
   ],
   "id": "c967cfb5611ace12",
   "outputs": [],
   "execution_count": 3
  },
  {
   "metadata": {
    "ExecuteTime": {
     "end_time": "2025-08-18T02:23:54.084271Z",
     "start_time": "2025-08-18T02:23:45.032579Z"
    }
   },
   "cell_type": "code",
   "source": [
    "after_iap = f\"\"\"\n",
    "WITH base AS (\n",
    "SELECT\n",
    "    s2.event_date AS first_date,\n",
    "    s2.country,\n",
    "    s2.platform,\n",
    "    DATE_DIFF(s1.event_date, s2.event_date, DAY) AS cohort_day,\n",
    "    s1.*,\n",
    "    ROW_NUMBER() OVER(PARTITION BY s1.user_pseudo_id ORDER BY s1.event_timestamp ASC) AS iap_order\n",
    "FROM `{project_id}.{schema_id}.in_app_purchase` s1\n",
    "JOIN `{project_id}.{schema_id}.first_open` s2\n",
    "    ON s1.user_pseudo_id = s2.user_pseudo_id\n",
    "    AND s1.event_date >= s2.event_date\n",
    "WHERE s2.event_date >= DATE('{start_date}')\n",
    "    AND s2.event_date <= DATE('{end_date}')\n",
    ")\n",
    ", base1 AS (\n",
    "SELECT\n",
    "    user_pseudo_id,\n",
    "    event_timestamp,\n",
    "    product_id,\n",
    "FROM base\n",
    "WHERE iap_order = 1\n",
    ")\n",
    "SELECT\n",
    "  s1.user_pseudo_id,\n",
    "  s1.event_timestamp AS ts_first_iap,\n",
    "  product_id AS first_product_iap,\n",
    "  s2.event_name,\n",
    "  s2.event_date,\n",
    "  s2.event_timestamp\n",
    "FROM base1 s1\n",
    "LEFT JOIN `{project_id}.{schema_id}.user_fact` s2\n",
    "  ON s1.user_pseudo_id = s2.user_pseudo_id\n",
    "  AND s2.event_timestamp >= s1.event_timestamp\n",
    "WHERE s2.event_name IN ('in_app_purchase', 'user_engagement', 'screen_view', 'app_exception', 'first_open')\n",
    "ORDER BY user_pseudo_id, ts_first_iap, event_timestamp\n",
    "\"\"\"\n",
    "after_iap = client.query(after_iap).to_dataframe()\n",
    "after_iap['user_pseudo_id'].nunique()"
   ],
   "id": "cf6e88d23eb12aeb",
   "outputs": [
    {
     "data": {
      "text/plain": [
       "438"
      ]
     },
     "execution_count": 4,
     "metadata": {},
     "output_type": "execute_result"
    }
   ],
   "execution_count": 4
  },
  {
   "metadata": {},
   "cell_type": "code",
   "source": [
    "last_play_date = after_iap.groupby('user_pseudo_id')['event_date'].max().reset_index()\n",
    "today = pd.Timestamp.today().normalize()\n",
    "last_play_date['event_date'] = pd.to_datetime(last_play_date['event_date'])\n",
    "last_play_date['days_since_last_play'] = (today - last_play_date['event_date']).dt.days\n",
    "last_play_date['drop'] = np.where(\n",
    "    last_play_date['days_since_last_play'] >= 3,\n",
    "    'Drop',\n",
    "    'Active'\n",
    ")\n",
    "last_play_date[last_play_date['drop'] == 'Drop']['user_pseudo_id'].unique().tolist()"
   ],
   "id": "bd7e0656d35424a9",
   "outputs": [],
   "execution_count": null
  },
  {
   "metadata": {
    "ExecuteTime": {
     "end_time": "2025-08-18T02:23:54.286619Z",
     "start_time": "2025-08-18T02:23:54.248425Z"
    }
   },
   "cell_type": "code",
   "source": [
    "# 1) Lấy tập user cần thêm hàng 'drop'\n",
    "drop_ids = set(\n",
    "    last_play_date.loc[last_play_date['drop'] == 'Drop', 'user_pseudo_id'].unique()\n",
    ")\n",
    "\n",
    "# 2) Giữ lại chỉ những user có mặt trong df\n",
    "cand = after_iap[after_iap['user_pseudo_id'].isin(drop_ids)]\n",
    "\n",
    "# 3) Lấy index của hàng có event_timestamp lớn nhất theo từng user\n",
    "#    (nếu trùng max, idxmax() trả về dòng đầu tiên trong số đó)\n",
    "idx_last = cand.groupby('user_pseudo_id')['event_timestamp'].idxmax()\n",
    "\n",
    "# 4) Tạo bản sao các hàng max và chỉnh sửa theo yêu cầu\n",
    "new_rows = after_iap.loc[idx_last].copy()\n",
    "new_rows['event_name'] = 'drop'  # đặt tên sự kiện\n",
    "# đảm bảo giữ dtype Int64 (nullable integer) rồi +1000\n",
    "new_rows['event_timestamp'] = new_rows['event_timestamp'].astype('Int64') + 1000\n",
    "\n",
    "# 5) Gộp trở lại\n",
    "after_iap_out = pd.concat([after_iap, new_rows], ignore_index=True)"
   ],
   "id": "b0a9c69152821e80",
   "outputs": [],
   "execution_count": 6
  },
  {
   "metadata": {
    "ExecuteTime": {
     "end_time": "2025-08-18T02:23:54.316996Z",
     "start_time": "2025-08-18T02:23:54.294635Z"
    }
   },
   "cell_type": "code",
   "source": "final_data = after_iap_out[(after_iap_out['event_name'] == 'in_app_purchase') | (after_iap_out['event_name'] == 'drop')][['first_product_iap', 'user_pseudo_id', 'event_timestamp', 'event_name']].reset_index(drop=True)",
   "id": "699c69858f8d345e",
   "outputs": [],
   "execution_count": 7
  },
  {
   "metadata": {
    "ExecuteTime": {
     "end_time": "2025-08-18T02:23:55.636008Z",
     "start_time": "2025-08-18T02:23:54.326370Z"
    }
   },
   "cell_type": "code",
   "source": [
    "iap_stream = final_data[['user_pseudo_id', 'event_name', 'event_timestamp']]\n",
    "iap_stream.rename(columns={\n",
    "    'user_pseudo_id': 'user_id',\n",
    "    'event_timestamp': 'timestamp',\n",
    "    'event_name': 'event'\n",
    "}, inplace=True)\n",
    "\n",
    "ios_step = Eventstream(iap_stream).step_matrix(\n",
    "    max_steps=10,\n",
    "    show_plot=False,\n",
    ")\n",
    "\n",
    "ax = ios_step.plot()\n",
    "fig = ax.get_figure()\n",
    "fig.set_size_inches(12, 6)\n",
    "ax.set_title(\"IAP Step Matrix\")\n",
    "plt.show()"
   ],
   "id": "80a120162035a64e",
   "outputs": [
    {
     "name": "stderr",
     "output_type": "stream",
     "text": [
      "C:\\Users\\PC\\AppData\\Local\\Temp\\ipykernel_14040\\2754790358.py:2: SettingWithCopyWarning: \n",
      "A value is trying to be set on a copy of a slice from a DataFrame\n",
      "\n",
      "See the caveats in the documentation: https://pandas.pydata.org/pandas-docs/stable/user_guide/indexing.html#returning-a-view-versus-a-copy\n",
      "  iap_stream.rename(columns={\n"
     ]
    },
    {
     "data": {
      "text/plain": [
       "<Figure size 1200x600 with 1 Axes>"
      ],
      "image/png": "[encoded data removed]"
     },
     "metadata": {},
     "output_type": "display_data"
    }
   ],
   "execution_count": 8
  },
  {
   "metadata": {
    "ExecuteTime": {
     "end_time": "2025-08-18T02:23:56.342630Z",
     "start_time": "2025-08-18T02:23:55.673733Z"
    }
   },
   "cell_type": "code",
   "source": [
    "Eventstream(iap_stream).step_sankey(\n",
    "    max_steps=10,\n",
    "    show_plot=True\n",
    ")"
   ],
   "id": "eb89a2b2d498fc5e",
   "outputs": [
    {
     "data": {
      "application/vnd.plotly.v1+json": {
       "data": [
        {
         "arrangement": "snap",
         "link": {
          "hovertemplate": "%{value} unique users went from %{source.label} to %{target.label}.<br /><br />It took them %{label} in average.<extra></extra>",
          "label": [
           "0 days 00:00:00",
           "0 days 00:02:33",
           "0 days 00:05:09",
           "0 days 00:00:00",
           "0 days 00:01:49",
           "0 days 00:04:13",
           "0 days 00:00:00",
           "0 days 00:00:00",
           "0 days 00:00:00",
           "0 days 00:01:36",
           "0 days 00:04:31",
           "0 days 00:00:00",
           "0 days 00:00:00",
           "0 days 00:00:00",
           "0 days 00:01:19",
           "0 days 00:02:13",
           "0 days 00:00:00",
           "0 days 00:00:00",
           "0 days 00:00:00",
           "0 days 00:01:20",
           "0 days 00:02:38",
           "0 days 00:00:00",
           "0 days 00:00:00",
           "0 days 00:00:00",
           "0 days 00:01:16",
           "0 days 00:02:31",
           "0 days 00:00:00",
           "0 days 00:00:00",
           "0 days 00:00:00",
           "0 days 00:01:00",
           "0 days 00:00:00",
           "0 days 00:05:56",
           "0 days 00:00:00",
           "0 days 00:00:00",
           "0 days 00:00:57",
           "0 days 00:02:10",
           "0 days 00:00:00",
           "0 days 00:00:00",
           "0 days 00:00:00"
          ],
          "source": [
           0,
           1,
           1,
           1,
           2,
           2,
           2,
           3,
           4,
           5,
           5,
           5,
           6,
           7,
           8,
           8,
           8,
           9,
           10,
           11,
           11,
           11,
           12,
           13,
           14,
           14,
           14,
           15,
           16,
           17,
           17,
           17,
           18,
           19,
           20,
           20,
           20,
           21,
           22
          ],
          "target": [
           1,
           2,
           3,
           4,
           5,
           6,
           7,
           7,
           7,
           8,
           9,
           10,
           10,
           10,
           11,
           12,
           13,
           13,
           13,
           14,
           15,
           16,
           16,
           16,
           17,
           18,
           19,
           19,
           19,
           20,
           22,
           21,
           22,
           22,
           23,
           24,
           25,
           25,
           25
          ],
          "value": [
           438,
           295,
           119,
           24,
           220,
           61,
           14,
           119,
           24,
           180,
           31,
           9,
           61,
           157,
           151,
           16,
           13,
           31,
           227,
           134,
           10,
           7,
           16,
           271,
           120,
           11,
           3,
           10,
           294,
           106,
           9,
           5,
           11,
           307,
           89,
           13,
           4,
           5,
           327
          ]
         },
         "node": {
          "color": [
           "rgb(80, 190, 151)",
           "rgb(228, 101, 92)",
           "rgb(228, 101, 92)",
           "rgb(252, 200, 101)",
           "rgb(191, 214, 222)",
           "rgb(228, 101, 92)",
           "rgb(252, 200, 101)",
           "rgb(191, 214, 222)",
           "rgb(228, 101, 92)",
           "rgb(252, 200, 101)",
           "rgb(191, 214, 222)",
           "rgb(228, 101, 92)",
           "rgb(252, 200, 101)",
           "rgb(191, 214, 222)",
           "rgb(228, 101, 92)",
           "rgb(252, 200, 101)",
           "rgb(191, 214, 222)",
           "rgb(228, 101, 92)",
           "rgb(252, 200, 101)",
           "rgb(191, 214, 222)",
           "rgb(228, 101, 92)",
           "rgb(252, 200, 101)",
           "rgb(191, 214, 222)",
           "rgb(228, 101, 92)",
           "rgb(252, 200, 101)",
           "rgb(191, 214, 222)"
          ],
          "customdata": [
           100.0,
           100.0,
           67.35,
           27.17,
           5.48,
           50.23,
           13.93,
           35.84,
           41.1,
           7.08,
           51.83,
           34.47,
           3.65,
           61.87,
           30.59,
           2.28,
           67.12,
           27.4,
           2.51,
           70.09,
           24.2,
           1.14,
           74.66,
           20.32,
           2.97,
           76.71
          ],
          "hovertemplate": "Total unique users: %{value} (%{customdata}% of total)<extra></extra>",
          "label": [
           "path_start",
           "in_app_purchase",
           "in_app_purchase",
           "drop",
           "ENDED",
           "in_app_purchase",
           "drop",
           "ENDED",
           "in_app_purchase",
           "drop",
           "ENDED",
           "in_app_purchase",
           "drop",
           "ENDED",
           "in_app_purchase",
           "drop",
           "ENDED",
           "in_app_purchase",
           "drop",
           "ENDED",
           "in_app_purchase",
           "drop",
           "ENDED",
           "in_app_purchase",
           "drop",
           "ENDED"
          ],
          "line": {
           "color": "black",
           "width": 0.5
          },
          "pad": 20,
          "thickness": 15,
          "x": [
           0.05,
           0.15,
           0.25,
           0.25,
           0.25,
           0.35,
           0.35,
           0.35,
           0.45,
           0.45,
           0.45,
           0.55,
           0.55,
           0.55,
           0.65,
           0.65,
           0.65,
           0.75,
           0.75,
           0.75,
           0.85,
           0.85,
           0.85,
           0.95,
           0.95,
           0.95
          ],
          "y": [
           0.05,
           0.05,
           0.05,
           0.5,
           0.95,
           0.05,
           0.5,
           0.95,
           0.05,
           0.5,
           0.95,
           0.05,
           0.5,
           0.95,
           0.05,
           0.5,
           0.95,
           0.05,
           0.5,
           0.95,
           0.05,
           0.5,
           0.95,
           0.05,
           0.5,
           0.95
          ]
         },
         "type": "sankey"
        }
       ],
       "layout": {
        "template": {
         "data": {
          "histogram2dcontour": [
           {
            "type": "histogram2dcontour",
            "colorbar": {
             "outlinewidth": 0,
             "ticks": ""
            },
            "colorscale": [
             [
              0.0,
              "#0d0887"
             ],
             [
              0.1111111111111111,
              "#46039f"
             ],
             [
              0.2222222222222222,
              "#7201a8"
             ],
             [
              0.3333333333333333,
              "#9c179e"
             ],
             [
              0.4444444444444444,
              "#bd3786"
             ],
             [
              0.5555555555555556,
              "#d8576b"
             ],
             [
              0.6666666666666666,
              "#ed7953"
             ],
             [
              0.7777777777777778,
              "#fb9f3a"
             ],
             [
              0.8888888888888888,
              "#fdca26"
             ],
             [
              1.0,
              "#f0f921"
             ]
            ]
           }
          ],
          "choropleth": [
           {
            "type": "choropleth",
            "colorbar": {
             "outlinewidth": 0,
             "ticks": ""
            }
           }
          ],
          "histogram2d": [
           {
            "type": "histogram2d",
            "colorbar": {
             "outlinewidth": 0,
             "ticks": ""
            },
            "colorscale": [
             [
              0.0,
              "#0d0887"
             ],
             [
              0.1111111111111111,
              "#46039f"
             ],
             [
              0.2222222222222222,
              "#7201a8"
             ],
             [
              0.3333333333333333,
              "#9c179e"
             ],
             [
              0.4444444444444444,
              "#bd3786"
             ],
             [
              0.5555555555555556,
              "#d8576b"
             ],
             [
              0.6666666666666666,
              "#ed7953"
             ],
             [
              0.7777777777777778,
              "#fb9f3a"
             ],
             [
              0.8888888888888888,
              "#fdca26"
             ],
             [
              1.0,
              "#f0f921"
             ]
            ]
           }
          ],
          "heatmap": [
           {
            "type": "heatmap",
            "colorbar": {
             "outlinewidth": 0,
             "ticks": ""
            },
            "colorscale": [
             [
              0.0,
              "#0d0887"
             ],
             [
              0.1111111111111111,
              "#46039f"
             ],
             [
              0.2222222222222222,
              "#7201a8"
             ],
             [
              0.3333333333333333,
              "#9c179e"
             ],
             [
              0.4444444444444444,
              "#bd3786"
             ],
             [
              0.5555555555555556,
              "#d8576b"
             ],
             [
              0.6666666666666666,
              "#ed7953"
             ],
             [
              0.7777777777777778,
              "#fb9f3a"
             ],
             [
              0.8888888888888888,
              "#fdca26"
             ],
             [
              1.0,
              "#f0f921"
             ]
            ]
           }
          ],
          "contourcarpet": [
           {
            "type": "contourcarpet",
            "colorbar": {
             "outlinewidth": 0,
             "ticks": ""
            }
           }
          ],
          "contour": [
           {
            "type": "contour",
            "colorbar": {
             "outlinewidth": 0,
             "ticks": ""
            },
            "colorscale": [
             [
              0.0,
              "#0d0887"
             ],
             [
              0.1111111111111111,
              "#46039f"
             ],
             [
              0.2222222222222222,
              "#7201a8"
             ],
             [
              0.3333333333333333,
              "#9c179e"
             ],
             [
              0.4444444444444444,
              "#bd3786"
             ],
             [
              0.5555555555555556,
              "#d8576b"
             ],
             [
              0.6666666666666666,
              "#ed7953"
             ],
             [
              0.7777777777777778,
              "#fb9f3a"
             ],
             [
              0.8888888888888888,
              "#fdca26"
             ],
             [
              1.0,
              "#f0f921"
             ]
            ]
           }
          ],
          "surface": [
           {
            "type": "surface",
            "colorbar": {
             "outlinewidth": 0,
             "ticks": ""
            },
            "colorscale": [
             [
              0.0,
              "#0d0887"
             ],
             [
              0.1111111111111111,
              "#46039f"
             ],
             [
              0.2222222222222222,
              "#7201a8"
             ],
             [
              0.3333333333333333,
              "#9c179e"
             ],
             [
              0.4444444444444444,
              "#bd3786"
             ],
             [
              0.5555555555555556,
              "#d8576b"
             ],
             [
              0.6666666666666666,
              "#ed7953"
             ],
             [
              0.7777777777777778,
              "#fb9f3a"
             ],
             [
              0.8888888888888888,
              "#fdca26"
             ],
             [
              1.0,
              "#f0f921"
             ]
            ]
           }
          ],
          "mesh3d": [
           {
            "type": "mesh3d",
            "colorbar": {
             "outlinewidth": 0,
             "ticks": ""
            }
           }
          ],
          "scatter": [
           {
            "fillpattern": {
             "fillmode": "overlay",
             "size": 10,
             "solidity": 0.2
            },
            "type": "scatter"
           }
          ],
          "parcoords": [
           {
            "type": "parcoords",
            "line": {
             "colorbar": {
              "outlinewidth": 0,
              "ticks": ""
             }
            }
           }
          ],
          "scatterpolargl": [
           {
            "type": "scatterpolargl",
            "marker": {
             "colorbar": {
              "outlinewidth": 0,
              "ticks": ""
             }
            }
           }
          ],
          "bar": [
           {
            "error_x": {
             "color": "#2a3f5f"
            },
            "error_y": {
             "color": "#2a3f5f"
            },
            "marker": {
             "line": {
              "color": "#E5ECF6",
              "width": 0.5
             },
             "pattern": {
              "fillmode": "overlay",
              "size": 10,
              "solidity": 0.2
             }
            },
            "type": "bar"
           }
          ],
          "scattergeo": [
           {
            "type": "scattergeo",
            "marker": {
             "colorbar": {
              "outlinewidth": 0,
              "ticks": ""
             }
            }
           }
          ],
          "scatterpolar": [
           {
            "type": "scatterpolar",
            "marker": {
             "colorbar": {
              "outlinewidth": 0,
              "ticks": ""
             }
            }
           }
          ],
          "histogram": [
           {
            "marker": {
             "pattern": {
              "fillmode": "overlay",
              "size": 10,
              "solidity": 0.2
             }
            },
            "type": "histogram"
           }
          ],
          "scattergl": [
           {
            "type": "scattergl",
            "marker": {
             "colorbar": {
              "outlinewidth": 0,
              "ticks": ""
             }
            }
           }
          ],
          "scatter3d": [
           {
            "type": "scatter3d",
            "line": {
             "colorbar": {
              "outlinewidth": 0,
              "ticks": ""
             }
            },
            "marker": {
             "colorbar": {
              "outlinewidth": 0,
              "ticks": ""
             }
            }
           }
          ],
          "scattermap": [
           {
            "type": "scattermap",
            "marker": {
             "colorbar": {
              "outlinewidth": 0,
              "ticks": ""
             }
            }
           }
          ],
          "scattermapbox": [
           {
            "type": "scattermapbox",
            "marker": {
             "colorbar": {
              "outlinewidth": 0,
              "ticks": ""
             }
            }
           }
          ],
          "scatterternary": [
           {
            "type": "scatterternary",
            "marker": {
             "colorbar": {
              "outlinewidth": 0,
              "ticks": ""
             }
            }
           }
          ],
          "scattercarpet": [
           {
            "type": "scattercarpet",
            "marker": {
             "colorbar": {
              "outlinewidth": 0,
              "ticks": ""
             }
            }
           }
          ],
          "carpet": [
           {
            "aaxis": {
             "endlinecolor": "#2a3f5f",
             "gridcolor": "white",
             "linecolor": "white",
             "minorgridcolor": "white",
             "startlinecolor": "#2a3f5f"
            },
            "baxis": {
             "endlinecolor": "#2a3f5f",
             "gridcolor": "white",
             "linecolor": "white",
             "minorgridcolor": "white",
             "startlinecolor": "#2a3f5f"
            },
            "type": "carpet"
           }
          ],
          "table": [
           {
            "cells": {
             "fill": {
              "color": "#EBF0F8"
             },
             "line": {
              "color": "white"
             }
            },
            "header": {
             "fill": {
              "color": "#C8D4E3"
             },
             "line": {
              "color": "white"
             }
            },
            "type": "table"
           }
          ],
          "barpolar": [
           {
            "marker": {
             "line": {
              "color": "#E5ECF6",
              "width": 0.5
             },
             "pattern": {
              "fillmode": "overlay",
              "size": 10,
              "solidity": 0.2
             }
            },
            "type": "barpolar"
           }
          ],
          "pie": [
           {
            "automargin": true,
            "type": "pie"
           }
          ]
         },
         "layout": {
          "autotypenumbers": "strict",
          "colorway": [
           "#636efa",
           "#EF553B",
           "#00cc96",
           "#ab63fa",
           "#FFA15A",
           "#19d3f3",
           "#FF6692",
           "#B6E880",
           "#FF97FF",
           "#FECB52"
          ],
          "font": {
           "color": "#2a3f5f"
          },
          "hovermode": "closest",
          "hoverlabel": {
           "align": "left"
          },
          "paper_bgcolor": "white",
          "plot_bgcolor": "#E5ECF6",
          "polar": {
           "bgcolor": "#E5ECF6",
           "angularaxis": {
            "gridcolor": "white",
            "linecolor": "white",
            "ticks": ""
           },
           "radialaxis": {
            "gridcolor": "white",
            "linecolor": "white",
            "ticks": ""
           }
          },
          "ternary": {
           "bgcolor": "#E5ECF6",
           "aaxis": {
            "gridcolor": "white",
            "linecolor": "white",
            "ticks": ""
           },
           "baxis": {
            "gridcolor": "white",
            "linecolor": "white",
            "ticks": ""
           },
           "caxis": {
            "gridcolor": "white",
            "linecolor": "white",
            "ticks": ""
           }
          },
          "coloraxis": {
           "colorbar": {
            "outlinewidth": 0,
            "ticks": ""
           }
          },
          "colorscale": {
           "sequential": [
            [
             0.0,
             "#0d0887"
            ],
            [
             0.1111111111111111,
             "#46039f"
            ],
            [
             0.2222222222222222,
             "#7201a8"
            ],
            [
             0.3333333333333333,
             "#9c179e"
            ],
            [
             0.4444444444444444,
             "#bd3786"
            ],
            [
             0.5555555555555556,
             "#d8576b"
            ],
            [
             0.6666666666666666,
             "#ed7953"
            ],
            [
             0.7777777777777778,
             "#fb9f3a"
            ],
            [
             0.8888888888888888,
             "#fdca26"
            ],
            [
             1.0,
             "#f0f921"
            ]
           ],
           "sequentialminus": [
            [
             0.0,
             "#0d0887"
            ],
            [
             0.1111111111111111,
             "#46039f"
            ],
            [
             0.2222222222222222,
             "#7201a8"
            ],
            [
             0.3333333333333333,
             "#9c179e"
            ],
            [
             0.4444444444444444,
             "#bd3786"
            ],
            [
             0.5555555555555556,
             "#d8576b"
            ],
            [
             0.6666666666666666,
             "#ed7953"
            ],
            [
             0.7777777777777778,
             "#fb9f3a"
            ],
            [
             0.8888888888888888,
             "#fdca26"
            ],
            [
             1.0,
             "#f0f921"
            ]
           ],
           "diverging": [
            [
             0,
             "#8e0152"
            ],
            [
             0.1,
             "#c51b7d"
            ],
            [
             0.2,
             "#de77ae"
            ],
            [
             0.3,
             "#f1b6da"
            ],
            [
             0.4,
             "#fde0ef"
            ],
            [
             0.5,
             "#f7f7f7"
            ],
            [
             0.6,
             "#e6f5d0"
            ],
            [
             0.7,
             "#b8e186"
            ],
            [
             0.8,
             "#7fbc41"
            ],
            [
             0.9,
             "#4d9221"
            ],
            [
             1,
             "#276419"
            ]
           ]
          },
          "xaxis": {
           "gridcolor": "white",
           "linecolor": "white",
           "ticks": "",
           "title": {
            "standoff": 15
           },
           "zerolinecolor": "white",
           "automargin": true,
           "zerolinewidth": 2
          },
          "yaxis": {
           "gridcolor": "white",
           "linecolor": "white",
           "ticks": "",
           "title": {
            "standoff": 15
           },
           "zerolinecolor": "white",
           "automargin": true,
           "zerolinewidth": 2
          },
          "scene": {
           "xaxis": {
            "backgroundcolor": "#E5ECF6",
            "gridcolor": "white",
            "linecolor": "white",
            "showbackground": true,
            "ticks": "",
            "zerolinecolor": "white",
            "gridwidth": 2
           },
           "yaxis": {
            "backgroundcolor": "#E5ECF6",
            "gridcolor": "white",
            "linecolor": "white",
            "showbackground": true,
            "ticks": "",
            "zerolinecolor": "white",
            "gridwidth": 2
           },
           "zaxis": {
            "backgroundcolor": "#E5ECF6",
            "gridcolor": "white",
            "linecolor": "white",
            "showbackground": true,
            "ticks": "",
            "zerolinecolor": "white",
            "gridwidth": 2
           }
          },
          "shapedefaults": {
           "line": {
            "color": "#2a3f5f"
           }
          },
          "annotationdefaults": {
           "arrowcolor": "#2a3f5f",
           "arrowhead": 0,
           "arrowwidth": 1
          },
          "geo": {
           "bgcolor": "white",
           "landcolor": "#E5ECF6",
           "subunitcolor": "white",
           "showland": true,
           "showlakes": true,
           "lakecolor": "white"
          },
          "title": {
           "x": 0.05
          },
          "mapbox": {
           "style": "light"
          }
         }
        },
        "font": {
         "size": 15
        },
        "plot_bgcolor": "white",
        "autosize": true
       },
       "config": {
        "plotlyServerURL": "https://plot.ly"
       }
      }
     },
     "metadata": {},
     "output_type": "display_data"
    },
    {
     "data": {
      "text/plain": [
       "<retentioneering.tooling.step_sankey.step_sankey.StepSankey at 0x1c6827970a0>"
      ]
     },
     "execution_count": 9,
     "metadata": {},
     "output_type": "execute_result"
    }
   ],
   "execution_count": 9
  },
  {
   "metadata": {},
   "cell_type": "markdown",
   "source": [
    "Trong số những người dùng có phát sinh IAP:\n",
    "- Khoảng 67% người dùng sẽ mua tiếp gói IAP thứ hai\n",
    "- Khoảng 28% người dùng sẽ drop\n",
    "- Khoảng 5% người dùng không drop cũng không mua tiếp gói IAP nào nữa"
   ],
   "id": "1572c69c3d84666d"
  },
  {
   "metadata": {},
   "cell_type": "markdown",
   "source": "# Journey của nhóm mua IAP gói Remove Ads đầu tiên",
   "id": "2b61c41bc46c9cd9"
  },
  {
   "metadata": {
    "ExecuteTime": {
     "end_time": "2025-08-18T02:23:56.865965Z",
     "start_time": "2025-08-18T02:23:56.364217Z"
    }
   },
   "cell_type": "code",
   "source": [
    "ads_iap = final_data[final_data['first_product_iap'].str.contains('removeads')].reset_index(drop=True)\n",
    "ads_stream = ads_iap[['user_pseudo_id', 'event_name', 'event_timestamp']]\n",
    "ads_stream.rename(columns={\n",
    "    'user_pseudo_id': 'user_id',\n",
    "    'event_timestamp': 'timestamp',\n",
    "    'event_name': 'event'\n",
    "}, inplace=True)\n",
    "\n",
    "ads_step = Eventstream(ads_stream).step_matrix(\n",
    "    max_steps=10,\n",
    "    show_plot=False,\n",
    ")\n",
    "\n",
    "ax = ads_step.plot()\n",
    "fig = ax.get_figure()\n",
    "fig.set_size_inches(12, 6)\n",
    "ax.set_title(\"IAP Step Matrix (Buy Remove Ads First)\")\n",
    "plt.show()"
   ],
   "id": "c9879be4cc6b11f6",
   "outputs": [
    {
     "name": "stderr",
     "output_type": "stream",
     "text": [
      "C:\\Users\\PC\\AppData\\Local\\Temp\\ipykernel_14040\\2085639495.py:3: SettingWithCopyWarning:\n",
      "\n",
      "\n",
      "A value is trying to be set on a copy of a slice from a DataFrame\n",
      "\n",
      "See the caveats in the documentation: https://pandas.pydata.org/pandas-docs/stable/user_guide/indexing.html#returning-a-view-versus-a-copy\n",
      "\n"
     ]
    },
    {
     "data": {
      "text/plain": [
       "<Figure size 1200x600 with 1 Axes>"
      ],
      "image/png": "[encoded data removed]"
     },
     "metadata": {},
     "output_type": "display_data"
    }
   ],
   "execution_count": 10
  },
  {
   "metadata": {
    "ExecuteTime": {
     "end_time": "2025-08-18T02:23:57.275408Z",
     "start_time": "2025-08-18T02:23:56.876819Z"
    }
   },
   "cell_type": "code",
   "source": [
    "Eventstream(ads_stream).step_sankey(\n",
    "    max_steps=10,\n",
    "    show_plot=True,\n",
    ")"
   ],
   "id": "69050b4b434b0dff",
   "outputs": [
    {
     "data": {
      "application/vnd.plotly.v1+json": {
       "data": [
        {
         "arrangement": "snap",
         "link": {
          "hovertemplate": "%{value} unique users went from %{source.label} to %{target.label}.<br /><br />It took them %{label} in average.<extra></extra>",
          "label": [
           "0 days 00:00:00",
           "0 days 00:03:15",
           "0 days 00:06:06",
           "0 days 00:00:00",
           "0 days 00:01:33",
           "0 days 00:05:29",
           "0 days 00:00:00",
           "0 days 00:00:00",
           "0 days 00:00:00",
           "0 days 00:01:27",
           "0 days 00:04:04",
           "0 days 00:00:00",
           "0 days 00:00:00",
           "0 days 00:00:00",
           "0 days 00:00:49",
           "0 days 00:00:00",
           "0 days 00:01:54",
           "0 days 00:00:00",
           "0 days 00:00:00",
           "0 days 00:00:58",
           "0 days 00:01:19",
           "0 days 00:00:00",
           "0 days 00:00:00",
           "0 days 00:00:00",
           "0 days 00:01:25",
           "0 days 00:02:27",
           "0 days 00:00:00",
           "0 days 00:00:00",
           "0 days 00:01:11",
           "0 days 00:00:00",
           "0 days 00:06:38",
           "0 days 00:00:00",
           "0 days 00:00:00",
           "0 days 00:00:52",
           "0 days 00:01:43",
           "0 days 00:00:00",
           "0 days 00:00:00",
           "0 days 00:00:00"
          ],
          "source": [
           0,
           1,
           1,
           1,
           2,
           2,
           2,
           3,
           4,
           5,
           5,
           5,
           6,
           7,
           8,
           8,
           8,
           9,
           10,
           11,
           11,
           11,
           12,
           13,
           14,
           14,
           15,
           16,
           17,
           17,
           17,
           18,
           19,
           20,
           20,
           20,
           21,
           22
          ],
          "target": [
           1,
           2,
           3,
           4,
           5,
           6,
           7,
           7,
           7,
           8,
           9,
           10,
           10,
           10,
           11,
           13,
           12,
           13,
           13,
           14,
           15,
           16,
           16,
           16,
           17,
           18,
           19,
           19,
           20,
           22,
           21,
           22,
           22,
           23,
           24,
           25,
           25,
           25
          ],
          "value": [
           211,
           134,
           64,
           13,
           99,
           31,
           4,
           64,
           13,
           80,
           15,
           4,
           31,
           81,
           70,
           5,
           5,
           15,
           116,
           63,
           5,
           2,
           5,
           136,
           58,
           5,
           5,
           143,
           51,
           4,
           3,
           5,
           148,
           43,
           6,
           2,
           3,
           157
          ]
         },
         "node": {
          "color": [
           "rgb(80, 190, 151)",
           "rgb(228, 101, 92)",
           "rgb(228, 101, 92)",
           "rgb(252, 200, 101)",
           "rgb(191, 214, 222)",
           "rgb(228, 101, 92)",
           "rgb(252, 200, 101)",
           "rgb(191, 214, 222)",
           "rgb(228, 101, 92)",
           "rgb(252, 200, 101)",
           "rgb(191, 214, 222)",
           "rgb(228, 101, 92)",
           "rgb(252, 200, 101)",
           "rgb(191, 214, 222)",
           "rgb(228, 101, 92)",
           "rgb(252, 200, 101)",
           "rgb(191, 214, 222)",
           "rgb(228, 101, 92)",
           "rgb(252, 200, 101)",
           "rgb(191, 214, 222)",
           "rgb(228, 101, 92)",
           "rgb(252, 200, 101)",
           "rgb(191, 214, 222)",
           "rgb(228, 101, 92)",
           "rgb(252, 200, 101)",
           "rgb(191, 214, 222)"
          ],
          "customdata": [
           100.0,
           100.0,
           63.51,
           30.33,
           6.16,
           46.92,
           14.69,
           38.39,
           37.91,
           7.11,
           54.98,
           33.18,
           2.37,
           64.45,
           29.86,
           2.37,
           67.77,
           27.49,
           2.37,
           70.14,
           24.17,
           1.42,
           74.41,
           20.38,
           2.84,
           76.78
          ],
          "hovertemplate": "Total unique users: %{value} (%{customdata}% of total)<extra></extra>",
          "label": [
           "path_start",
           "in_app_purchase",
           "in_app_purchase",
           "drop",
           "ENDED",
           "in_app_purchase",
           "drop",
           "ENDED",
           "in_app_purchase",
           "drop",
           "ENDED",
           "in_app_purchase",
           "drop",
           "ENDED",
           "in_app_purchase",
           "drop",
           "ENDED",
           "in_app_purchase",
           "drop",
           "ENDED",
           "in_app_purchase",
           "drop",
           "ENDED",
           "in_app_purchase",
           "drop",
           "ENDED"
          ],
          "line": {
           "color": "black",
           "width": 0.5
          },
          "pad": 20,
          "thickness": 15,
          "x": [
           0.05,
           0.15,
           0.25,
           0.25,
           0.25,
           0.35,
           0.35,
           0.35,
           0.45,
           0.45,
           0.45,
           0.55,
           0.55,
           0.55,
           0.65,
           0.65,
           0.65,
           0.75,
           0.75,
           0.75,
           0.85,
           0.85,
           0.85,
           0.95,
           0.95,
           0.95
          ],
          "y": [
           0.05,
           0.05,
           0.05,
           0.5,
           0.95,
           0.05,
           0.5,
           0.95,
           0.05,
           0.5,
           0.95,
           0.05,
           0.5,
           0.95,
           0.05,
           0.5,
           0.95,
           0.05,
           0.5,
           0.95,
           0.05,
           0.5,
           0.95,
           0.05,
           0.5,
           0.95
          ]
         },
         "type": "sankey"
        }
       ],
       "layout": {
        "template": {
         "data": {
          "histogram2dcontour": [
           {
            "type": "histogram2dcontour",
            "colorbar": {
             "outlinewidth": 0,
             "ticks": ""
            },
            "colorscale": [
             [
              0.0,
              "#0d0887"
             ],
             [
              0.1111111111111111,
              "#46039f"
             ],
             [
              0.2222222222222222,
              "#7201a8"
             ],
             [
              0.3333333333333333,
              "#9c179e"
             ],
             [
              0.4444444444444444,
              "#bd3786"
             ],
             [
              0.5555555555555556,
              "#d8576b"
             ],
             [
              0.6666666666666666,
              "#ed7953"
             ],
             [
              0.7777777777777778,
              "#fb9f3a"
             ],
             [
              0.8888888888888888,
              "#fdca26"
             ],
             [
              1.0,
              "#f0f921"
             ]
            ]
           }
          ],
          "choropleth": [
           {
            "type": "choropleth",
            "colorbar": {
             "outlinewidth": 0,
             "ticks": ""
            }
           }
          ],
          "histogram2d": [
           {
            "type": "histogram2d",
            "colorbar": {
             "outlinewidth": 0,
             "ticks": ""
            },
            "colorscale": [
             [
              0.0,
              "#0d0887"
             ],
             [
              0.1111111111111111,
              "#46039f"
             ],
             [
              0.2222222222222222,
              "#7201a8"
             ],
             [
              0.3333333333333333,
              "#9c179e"
             ],
             [
              0.4444444444444444,
              "#bd3786"
             ],
             [
              0.5555555555555556,
              "#d8576b"
             ],
             [
              0.6666666666666666,
              "#ed7953"
             ],
             [
              0.7777777777777778,
              "#fb9f3a"
             ],
             [
              0.8888888888888888,
              "#fdca26"
             ],
             [
              1.0,
              "#f0f921"
             ]
            ]
           }
          ],
          "heatmap": [
           {
            "type": "heatmap",
            "colorbar": {
             "outlinewidth": 0,
             "ticks": ""
            },
            "colorscale": [
             [
              0.0,
              "#0d0887"
             ],
             [
              0.1111111111111111,
              "#46039f"
             ],
             [
              0.2222222222222222,
              "#7201a8"
             ],
             [
              0.3333333333333333,
              "#9c179e"
             ],
             [
              0.4444444444444444,
              "#bd3786"
             ],
             [
              0.5555555555555556,
              "#d8576b"
             ],
             [
              0.6666666666666666,
              "#ed7953"
             ],
             [
              0.7777777777777778,
              "#fb9f3a"
             ],
             [
              0.8888888888888888,
              "#fdca26"
             ],
             [
              1.0,
              "#f0f921"
             ]
            ]
           }
          ],
          "contourcarpet": [
           {
            "type": "contourcarpet",
            "colorbar": {
             "outlinewidth": 0,
             "ticks": ""
            }
           }
          ],
          "contour": [
           {
            "type": "contour",
            "colorbar": {
             "outlinewidth": 0,
             "ticks": ""
            },
            "colorscale": [
             [
              0.0,
              "#0d0887"
             ],
             [
              0.1111111111111111,
              "#46039f"
             ],
             [
              0.2222222222222222,
              "#7201a8"
             ],
             [
              0.3333333333333333,
              "#9c179e"
             ],
             [
              0.4444444444444444,
              "#bd3786"
             ],
             [
              0.5555555555555556,
              "#d8576b"
             ],
             [
              0.6666666666666666,
              "#ed7953"
             ],
             [
              0.7777777777777778,
              "#fb9f3a"
             ],
             [
              0.8888888888888888,
              "#fdca26"
             ],
             [
              1.0,
              "#f0f921"
             ]
            ]
           }
          ],
          "surface": [
           {
            "type": "surface",
            "colorbar": {
             "outlinewidth": 0,
             "ticks": ""
            },
            "colorscale": [
             [
              0.0,
              "#0d0887"
             ],
             [
              0.1111111111111111,
              "#46039f"
             ],
             [
              0.2222222222222222,
              "#7201a8"
             ],
             [
              0.3333333333333333,
              "#9c179e"
             ],
             [
              0.4444444444444444,
              "#bd3786"
             ],
             [
              0.5555555555555556,
              "#d8576b"
             ],
             [
              0.6666666666666666,
              "#ed7953"
             ],
             [
              0.7777777777777778,
              "#fb9f3a"
             ],
             [
              0.8888888888888888,
              "#fdca26"
             ],
             [
              1.0,
              "#f0f921"
             ]
            ]
           }
          ],
          "mesh3d": [
           {
            "type": "mesh3d",
            "colorbar": {
             "outlinewidth": 0,
             "ticks": ""
            }
           }
          ],
          "scatter": [
           {
            "fillpattern": {
             "fillmode": "overlay",
             "size": 10,
             "solidity": 0.2
            },
            "type": "scatter"
           }
          ],
          "parcoords": [
           {
            "type": "parcoords",
            "line": {
             "colorbar": {
              "outlinewidth": 0,
              "ticks": ""
             }
            }
           }
          ],
          "scatterpolargl": [
           {
            "type": "scatterpolargl",
            "marker": {
             "colorbar": {
              "outlinewidth": 0,
              "ticks": ""
             }
            }
           }
          ],
          "bar": [
           {
            "error_x": {
             "color": "#2a3f5f"
            },
            "error_y": {
             "color": "#2a3f5f"
            },
            "marker": {
             "line": {
              "color": "#E5ECF6",
              "width": 0.5
             },
             "pattern": {
              "fillmode": "overlay",
              "size": 10,
              "solidity": 0.2
             }
            },
            "type": "bar"
           }
          ],
          "scattergeo": [
           {
            "type": "scattergeo",
            "marker": {
             "colorbar": {
              "outlinewidth": 0,
              "ticks": ""
             }
            }
           }
          ],
          "scatterpolar": [
           {
            "type": "scatterpolar",
            "marker": {
             "colorbar": {
              "outlinewidth": 0,
              "ticks": ""
             }
            }
           }
          ],
          "histogram": [
           {
            "marker": {
             "pattern": {
              "fillmode": "overlay",
              "size": 10,
              "solidity": 0.2
             }
            },
            "type": "histogram"
           }
          ],
          "scattergl": [
           {
            "type": "scattergl",
            "marker": {
             "colorbar": {
              "outlinewidth": 0,
              "ticks": ""
             }
            }
           }
          ],
          "scatter3d": [
           {
            "type": "scatter3d",
            "line": {
             "colorbar": {
              "outlinewidth": 0,
              "ticks": ""
             }
            },
            "marker": {
             "colorbar": {
              "outlinewidth": 0,
              "ticks": ""
             }
            }
           }
          ],
          "scattermap": [
           {
            "type": "scattermap",
            "marker": {
             "colorbar": {
              "outlinewidth": 0,
              "ticks": ""
             }
            }
           }
          ],
          "scattermapbox": [
           {
            "type": "scattermapbox",
            "marker": {
             "colorbar": {
              "outlinewidth": 0,
              "ticks": ""
             }
            }
           }
          ],
          "scatterternary": [
           {
            "type": "scatterternary",
            "marker": {
             "colorbar": {
              "outlinewidth": 0,
              "ticks": ""
             }
            }
           }
          ],
          "scattercarpet": [
           {
            "type": "scattercarpet",
            "marker": {
             "colorbar": {
              "outlinewidth": 0,
              "ticks": ""
             }
            }
           }
          ],
          "carpet": [
           {
            "aaxis": {
             "endlinecolor": "#2a3f5f",
             "gridcolor": "white",
             "linecolor": "white",
             "minorgridcolor": "white",
             "startlinecolor": "#2a3f5f"
            },
            "baxis": {
             "endlinecolor": "#2a3f5f",
             "gridcolor": "white",
             "linecolor": "white",
             "minorgridcolor": "white",
             "startlinecolor": "#2a3f5f"
            },
            "type": "carpet"
           }
          ],
          "table": [
           {
            "cells": {
             "fill": {
              "color": "#EBF0F8"
             },
             "line": {
              "color": "white"
             }
            },
            "header": {
             "fill": {
              "color": "#C8D4E3"
             },
             "line": {
              "color": "white"
             }
            },
            "type": "table"
           }
          ],
          "barpolar": [
           {
            "marker": {
             "line": {
              "color": "#E5ECF6",
              "width": 0.5
             },
             "pattern": {
              "fillmode": "overlay",
              "size": 10,
              "solidity": 0.2
             }
            },
            "type": "barpolar"
           }
          ],
          "pie": [
           {
            "automargin": true,
            "type": "pie"
           }
          ]
         },
         "layout": {
          "autotypenumbers": "strict",
          "colorway": [
           "#636efa",
           "#EF553B",
           "#00cc96",
           "#ab63fa",
           "#FFA15A",
           "#19d3f3",
           "#FF6692",
           "#B6E880",
           "#FF97FF",
           "#FECB52"
          ],
          "font": {
           "color": "#2a3f5f"
          },
          "hovermode": "closest",
          "hoverlabel": {
           "align": "left"
          },
          "paper_bgcolor": "white",
          "plot_bgcolor": "#E5ECF6",
          "polar": {
           "bgcolor": "#E5ECF6",
           "angularaxis": {
            "gridcolor": "white",
            "linecolor": "white",
            "ticks": ""
           },
           "radialaxis": {
            "gridcolor": "white",
            "linecolor": "white",
            "ticks": ""
           }
          },
          "ternary": {
           "bgcolor": "#E5ECF6",
           "aaxis": {
            "gridcolor": "white",
            "linecolor": "white",
            "ticks": ""
           },
           "baxis": {
            "gridcolor": "white",
            "linecolor": "white",
            "ticks": ""
           },
           "caxis": {
            "gridcolor": "white",
            "linecolor": "white",
            "ticks": ""
           }
          },
          "coloraxis": {
           "colorbar": {
            "outlinewidth": 0,
            "ticks": ""
           }
          },
          "colorscale": {
           "sequential": [
            [
             0.0,
             "#0d0887"
            ],
            [
             0.1111111111111111,
             "#46039f"
            ],
            [
             0.2222222222222222,
             "#7201a8"
            ],
            [
             0.3333333333333333,
             "#9c179e"
            ],
            [
             0.4444444444444444,
             "#bd3786"
            ],
            [
             0.5555555555555556,
             "#d8576b"
            ],
            [
             0.6666666666666666,
             "#ed7953"
            ],
            [
             0.7777777777777778,
             "#fb9f3a"
            ],
            [
             0.8888888888888888,
             "#fdca26"
            ],
            [
             1.0,
             "#f0f921"
            ]
           ],
           "sequentialminus": [
            [
             0.0,
             "#0d0887"
            ],
            [
             0.1111111111111111,
             "#46039f"
            ],
            [
             0.2222222222222222,
             "#7201a8"
            ],
            [
             0.3333333333333333,
             "#9c179e"
            ],
            [
             0.4444444444444444,
             "#bd3786"
            ],
            [
             0.5555555555555556,
             "#d8576b"
            ],
            [
             0.6666666666666666,
             "#ed7953"
            ],
            [
             0.7777777777777778,
             "#fb9f3a"
            ],
            [
             0.8888888888888888,
             "#fdca26"
            ],
            [
             1.0,
             "#f0f921"
            ]
           ],
           "diverging": [
            [
             0,
             "#8e0152"
            ],
            [
             0.1,
             "#c51b7d"
            ],
            [
             0.2,
             "#de77ae"
            ],
            [
             0.3,
             "#f1b6da"
            ],
            [
             0.4,
             "#fde0ef"
            ],
            [
             0.5,
             "#f7f7f7"
            ],
            [
             0.6,
             "#e6f5d0"
            ],
            [
             0.7,
             "#b8e186"
            ],
            [
             0.8,
             "#7fbc41"
            ],
            [
             0.9,
             "#4d9221"
            ],
            [
             1,
             "#276419"
            ]
           ]
          },
          "xaxis": {
           "gridcolor": "white",
           "linecolor": "white",
           "ticks": "",
           "title": {
            "standoff": 15
           },
           "zerolinecolor": "white",
           "automargin": true,
           "zerolinewidth": 2
          },
          "yaxis": {
           "gridcolor": "white",
           "linecolor": "white",
           "ticks": "",
           "title": {
            "standoff": 15
           },
           "zerolinecolor": "white",
           "automargin": true,
           "zerolinewidth": 2
          },
          "scene": {
           "xaxis": {
            "backgroundcolor": "#E5ECF6",
            "gridcolor": "white",
            "linecolor": "white",
            "showbackground": true,
            "ticks": "",
            "zerolinecolor": "white",
            "gridwidth": 2
           },
           "yaxis": {
            "backgroundcolor": "#E5ECF6",
            "gridcolor": "white",
            "linecolor": "white",
            "showbackground": true,
            "ticks": "",
            "zerolinecolor": "white",
            "gridwidth": 2
           },
           "zaxis": {
            "backgroundcolor": "#E5ECF6",
            "gridcolor": "white",
            "linecolor": "white",
            "showbackground": true,
            "ticks": "",
            "zerolinecolor": "white",
            "gridwidth": 2
           }
          },
          "shapedefaults": {
           "line": {
            "color": "#2a3f5f"
           }
          },
          "annotationdefaults": {
           "arrowcolor": "#2a3f5f",
           "arrowhead": 0,
           "arrowwidth": 1
          },
          "geo": {
           "bgcolor": "white",
           "landcolor": "#E5ECF6",
           "subunitcolor": "white",
           "showland": true,
           "showlakes": true,
           "lakecolor": "white"
          },
          "title": {
           "x": 0.05
          },
          "mapbox": {
           "style": "light"
          }
         }
        },
        "font": {
         "size": 15
        },
        "plot_bgcolor": "white",
        "autosize": true
       },
       "config": {
        "plotlyServerURL": "https://plot.ly"
       }
      }
     },
     "metadata": {},
     "output_type": "display_data"
    },
    {
     "data": {
      "text/plain": [
       "<retentioneering.tooling.step_sankey.step_sankey.StepSankey at 0x1c68292f730>"
      ]
     },
     "execution_count": 11,
     "metadata": {},
     "output_type": "execute_result"
    }
   ],
   "execution_count": 11
  },
  {
   "metadata": {},
   "cell_type": "markdown",
   "source": [
    "Trong số những người dùng mua IAP gói Remove Ads đầu tiên:\n",
    "- Khoảng 64% người dùng sẽ mua tiếp gói IAP thứ hai\n",
    "- Khoảng 30% người dùng sẽ drop\n",
    "- Khoảng 6% người dùng không drop cũng không mua tiếp gói IAP nào nữa"
   ],
   "id": "4a3f8eb1b7f7d445"
  },
  {
   "metadata": {},
   "cell_type": "markdown",
   "source": "## Phân tích 64% Users mua tiếp có đặc điểm gì chung?",
   "id": "99c4e01a6f850156"
  },
  {
   "metadata": {
    "ExecuteTime": {
     "end_time": "2025-08-18T03:13:19.058189Z",
     "start_time": "2025-08-18T03:13:19.037268Z"
    }
   },
   "cell_type": "code",
   "source": "ads_users_active = ads_iap[ads_iap['event_name'] != 'drop']['user_pseudo_id'].unique().tolist()",
   "id": "d8b933ceeee3eb3d",
   "outputs": [],
   "execution_count": 40
  },
  {
   "metadata": {
    "ExecuteTime": {
     "end_time": "2025-08-18T03:16:02.085382Z",
     "start_time": "2025-08-18T03:15:57.126303Z"
    }
   },
   "cell_type": "code",
   "source": [
    "ads_active_level = f\"\"\"\n",
    "WITH base AS (\n",
    "SELECT\n",
    "    user_pseudo_id,\n",
    "    MIN(event_timestamp) AS start_level_ts,\n",
    "    level\n",
    "FROM `{project_id}.{schema_id}.start_level`\n",
    "WHERE user_pseudo_id IN {tuple(ads_users_active)}\n",
    "GROUP BY user_pseudo_id, level\n",
    ")\n",
    ", base1 AS (\n",
    "SELECT\n",
    "    user_pseudo_id,\n",
    "    start_level_ts,\n",
    "    LEAD(start_level_ts) OVER(PARTITION BY user_pseudo_id ORDER BY start_level_ts) AS next_start_level_ts,\n",
    "    level,\n",
    "    LEAD(level) OVER(PARTITION BY user_pseudo_id ORDER BY start_level_ts) AS next_level\n",
    "FROM base\n",
    ")\n",
    "SELECT\n",
    "    s1.user_pseudo_id,\n",
    "    start_level_ts,\n",
    "    next_start_level_ts,\n",
    "    level,\n",
    "    next_level,\n",
    "    COUNT(DISTINCT s2.event_timestamp) AS iap_count,\n",
    "    SUM(event_value_in_usd) AS iap_revenue\n",
    "FROM base1 s1\n",
    "LEFT JOIN `{project_id}.{schema_id}.in_app_purchase` s2\n",
    "    ON s1.user_pseudo_id = s2.user_pseudo_id\n",
    "    AND s2.event_timestamp >= s1.start_level_ts\n",
    "    AND ((s2.event_timestamp <= s1.next_start_level_ts) OR (s1.next_start_level_ts IS NULL))\n",
    "GROUP BY user_pseudo_id, start_level_ts, next_start_level_ts, level, next_level\n",
    "ORDER BY user_pseudo_id, start_level_ts\n",
    "\"\"\"\n",
    "ads_active_level = client.query(ads_active_level).to_dataframe()\n",
    "ads_active_level['iap_revenue'] = ads_active_level['iap_revenue'].fillna(0)\n",
    "ads_active_level['user_pseudo_id'].nunique()"
   ],
   "id": "42dddecf787bc5ef",
   "outputs": [
    {
     "data": {
      "text/plain": [
       "211"
      ]
     },
     "execution_count": 48,
     "metadata": {},
     "output_type": "execute_result"
    }
   ],
   "execution_count": 48
  },
  {
   "metadata": {
    "ExecuteTime": {
     "end_time": "2025-08-18T07:32:20.133357Z",
     "start_time": "2025-08-18T07:32:19.580737Z"
    }
   },
   "cell_type": "code",
   "source": [
    "first_level_iap_ads = ads_active_level[ads_active_level['iap_count'] > 0].groupby('user_pseudo_id')['level'].min().reset_index()\n",
    "first_level_iap_ads = first_level_iap_ads.groupby('level')['user_pseudo_id'].nunique().reset_index()\n",
    "first_level_iap_ads['total_users_cum'] = first_level_iap_ads['user_pseudo_id'].cumsum()\n",
    "first_level_iap_ads['iap_rate'] = first_level_iap_ads['total_users_cum'] / (first_level_iap_ads['user_pseudo_id'].sum())\n",
    "\n",
    "fig, ax = plt.subplots(figsize=(15, 5))\n",
    "sns.barplot(data= first_level_iap_ads, x='level', y='iap_rate', ax=ax)\n",
    "ax.set_title('IAP Rate by Level of Users Who Bought Remove Ads First')\n",
    "ax.set_xlabel('Level')\n",
    "ax.set_ylabel('IAP Rate')\n",
    "ax.yaxis.set_major_formatter(FuncFormatter(lambda x, _: f'{x:.0%}'))\n",
    "ax.yaxis.set_major_locator(MultipleLocator(0.1))\n",
    "ax.xaxis.set_major_locator(MaxNLocator(integer=True))\n",
    "ax.xaxis.set_major_locator(MultipleLocator(1))\n",
    "plt.xticks(rotation=30, fontsize=8)\n",
    "plt.tight_layout()\n",
    "plt.show()"
   ],
   "id": "5fd020cf70a5a18f",
   "outputs": [
    {
     "data": {
      "text/plain": [
       "<Figure size 1500x500 with 1 Axes>"
      ],
      "image/png": "[encoded data removed]"
     },
     "metadata": {},
     "output_type": "display_data"
    }
   ],
   "execution_count": 123
  },
  {
   "metadata": {
    "ExecuteTime": {
     "end_time": "2025-08-18T07:32:22.083614Z",
     "start_time": "2025-08-18T07:32:21.649450Z"
    }
   },
   "cell_type": "code",
   "source": [
    "iap_oder = ads_active_level[ads_active_level['iap_count'] > 0].sort_values(by=['user_pseudo_id', 'start_level_ts']).reset_index(drop=True)\n",
    "iap_oder['iap_order'] = iap_oder.groupby('user_pseudo_id').cumcount() + 1\n",
    "second_iap = iap_oder[iap_oder['iap_order'] == 2]\n",
    "second_iap_level = second_iap.groupby('level')['user_pseudo_id'].nunique().reset_index(name='total_users')\n",
    "second_iap_level['total_users_cum'] = second_iap_level['total_users'].cumsum()\n",
    "second_iap_level['iap_rate'] = second_iap_level['total_users_cum'] / (second_iap_level['total_users'].sum())\n",
    "\n",
    "fig, ax = plt.subplots(figsize=(12, 5))\n",
    "sns.barplot(data= second_iap_level, x='level', y='iap_rate', ax=ax)\n",
    "ax.set_title('Second IAP Rate by Level')\n",
    "ax.set_xlabel('Level')\n",
    "ax.set_ylabel('IAP Rate')\n",
    "ax.yaxis.set_major_formatter(FuncFormatter(lambda x, _: f'{x:.0%}'))\n",
    "ax.yaxis.set_major_locator(MultipleLocator(0.1))\n",
    "ax.xaxis.set_major_locator(MaxNLocator(integer=True))\n",
    "ax.xaxis.set_major_locator(MultipleLocator(1))\n",
    "plt.xticks(rotation=30)\n",
    "plt.tight_layout()\n",
    "plt.show()"
   ],
   "id": "c217e2cd65ef4a69",
   "outputs": [
    {
     "data": {
      "text/plain": [
       "<Figure size 1200x500 with 1 Axes>"
      ],
      "image/png": "[encoded data removed]"
     },
     "metadata": {},
     "output_type": "display_data"
    }
   ],
   "execution_count": 124
  },
  {
   "metadata": {
    "ExecuteTime": {
     "end_time": "2025-08-18T07:32:24.098043Z",
     "start_time": "2025-08-18T07:32:23.702461Z"
    }
   },
   "cell_type": "code",
   "source": [
    "iap_oder['next_level_iap'] = iap_oder.groupby('user_pseudo_id')['level'].shift(-1)\n",
    "iap_oder['level_diff'] = iap_oder['next_level_iap'] - iap_oder['level']\n",
    "avg_level_diff = iap_oder[iap_oder['iap_order'] == 2].groupby('level_diff')['user_pseudo_id'].nunique().reset_index(name='total_users')\n",
    "avg_level_diff['total_users_cum'] = avg_level_diff['total_users'].cumsum()\n",
    "avg_level_diff['level_diff_mean'] = avg_level_diff['total_users_cum'] / (avg_level_diff['total_users'].sum())\n",
    "\n",
    "fig, ax = plt.subplots(figsize=(12, 5))\n",
    "sns.barplot(data= avg_level_diff, x='level_diff', y='level_diff_mean', ax=ax)\n",
    "ax.set_title('Second IAP Rate by Level Difference')\n",
    "ax.set_xlabel('Level Difference (Next Level IAP - Current Level IAP)')\n",
    "ax.set_ylabel('IAP Rate')\n",
    "ax.yaxis.set_major_formatter(FuncFormatter(lambda x, _: f'{x:.0%}'))\n",
    "ax.yaxis.set_major_locator(MultipleLocator(0.1))\n",
    "ax.xaxis.set_major_locator(MaxNLocator(integer=True))\n",
    "ax.xaxis.set_major_locator(MultipleLocator(1))\n",
    "plt.xticks(rotation=30)\n",
    "plt.tight_layout()\n",
    "plt.show()"
   ],
   "id": "69d00da6c8de39df",
   "outputs": [
    {
     "data": {
      "text/plain": [
       "<Figure size 1200x500 with 1 Axes>"
      ],
      "image/png": "[encoded data removed]"
     },
     "metadata": {},
     "output_type": "display_data"
    }
   ],
   "execution_count": 125
  },
  {
   "metadata": {},
   "cell_type": "markdown",
   "source": [
    "Trong số 64% Users mua tiếp gói IAP thứ hai:\n",
    "- 80% users mua iap lần đầu trước level 45\n",
    "- 80% users sẽ mua tiếp gói iap thứ hai trước level 55\n",
    "- 80% users sẽ chơi tiếp khoảng 13 levels rồi mua gói IAP thứ hai."
   ],
   "id": "adde19b878737b5f"
  },
  {
   "metadata": {},
   "cell_type": "markdown",
   "source": "## Phân tích 30% Users Drop có đặc điểm gì chung?",
   "id": "e7d7d45fb5a66461"
  },
  {
   "metadata": {
    "ExecuteTime": {
     "end_time": "2025-08-18T07:36:58.195092Z",
     "start_time": "2025-08-18T07:36:58.177186Z"
    }
   },
   "cell_type": "code",
   "source": [
    "ads_users_drop = ads_iap[ads_iap['event_name'] == 'drop']['user_pseudo_id'].unique().tolist()\n",
    "ads_drop_data = ads_iap[ads_iap['user_pseudo_id'].isin(ads_users_drop)].groupby('user_pseudo_id')['event_timestamp'].nunique().reset_index()\n",
    "users_drop_imme = ads_drop_data[ads_drop_data['event_timestamp'] == 2]['user_pseudo_id'].unique().tolist()"
   ],
   "id": "e4a2683311d21b1a",
   "outputs": [],
   "execution_count": 128
  },
  {
   "metadata": {
    "ExecuteTime": {
     "end_time": "2025-08-18T02:24:00.987468Z",
     "start_time": "2025-08-18T02:23:57.324907Z"
    }
   },
   "cell_type": "code",
   "source": [
    "event_list = \"\"\"\n",
    "SELECT\n",
    "    DISTINCT event_name\n",
    "FROM `{project_id}.{schema_id}.user_fact`\n",
    "WHERE event_date = '2025-08-08'\n",
    "\"\"\"\n",
    "event_list = client.query(event_list).to_dataframe()\n",
    "event_list = event_list['event_name'].tolist()\n",
    "\n",
    "event_firebase = ['app_clear_data', 'app_update', 'firebase_campaign','in_app_purchased', 'inter_attempt', 'os_update', 'reward_attempt']\n",
    "event_filter = ['IAP_home_click', 'ad_impression', 'ad_reward', 'ad_inters', 'ad_rewarded', 'all_play_level_time', 'app_exception', 'app_remove', 'first_open', 'reward_completed', 'screen_view', 'session_start', 'user_engagement']\n",
    "event_ua = [e for e in event_list if re.search(r'_\\d+\\b', str(e))]\n",
    "event_list = [e for e in event_list if e not in event_firebase and e not in event_filter and e not in event_ua]\n",
    "len(event_list)"
   ],
   "id": "cafb9a1e0e684f40",
   "outputs": [
    {
     "data": {
      "text/plain": [
       "32"
      ]
     },
     "execution_count": 13,
     "metadata": {},
     "output_type": "execute_result"
    }
   ],
   "execution_count": 13
  },
  {
   "metadata": {
    "ExecuteTime": {
     "end_time": "2025-08-18T02:24:06.283492Z",
     "start_time": "2025-08-18T02:24:01.029609Z"
    }
   },
   "cell_type": "code",
   "source": [
    "query_ads_drop = f\"\"\"\n",
    "WITH base AS (\n",
    "SELECT\n",
    "    s2.event_date AS first_date,\n",
    "    s2.country,\n",
    "    s2.platform,\n",
    "    DATE_DIFF(s1.event_date, s2.event_date, DAY) AS cohort_day,\n",
    "    s1.*,\n",
    "    ROW_NUMBER() OVER(PARTITION BY s1.user_pseudo_id ORDER BY s1.event_timestamp ASC) AS iap_order\n",
    "FROM `{project_id}.{schema_id}.in_app_purchase` s1\n",
    "JOIN `{project_id}.{schema_id}.first_open` s2\n",
    "    ON s1.user_pseudo_id = s2.user_pseudo_id\n",
    "    AND s1.event_date >= s2.event_date\n",
    "WHERE s2.user_pseudo_id IN {tuple(users_drop_imme)}\n",
    ")\n",
    ", base1 AS (\n",
    "SELECT\n",
    "    user_pseudo_id,\n",
    "    event_timestamp,\n",
    "    product_id,\n",
    "FROM base\n",
    "WHERE iap_order = 1\n",
    ")\n",
    "SELECT\n",
    "  s1.user_pseudo_id,\n",
    "  s1.event_timestamp AS ts_first_iap,\n",
    "  product_id AS first_product_iap,\n",
    "  s2.event_name,\n",
    "  s2.event_date,\n",
    "  s2.event_timestamp\n",
    "FROM base1 s1\n",
    "LEFT JOIN `{project_id}.{schema_id}.user_fact` s2\n",
    "  ON s1.user_pseudo_id = s2.user_pseudo_id\n",
    "  AND s2.event_timestamp >= s1.event_timestamp\n",
    "WHERE s2.event_name IN {tuple(event_list)}\n",
    "ORDER BY user_pseudo_id, ts_first_iap, event_timestamp\n",
    "\"\"\"\n",
    "ads_drop_data = client.query(query_ads_drop).to_dataframe()\n",
    "ads_drop_data['user_pseudo_id'].nunique()"
   ],
   "id": "f2e3fddc122fff77",
   "outputs": [
    {
     "data": {
      "text/plain": [
       "64"
      ]
     },
     "execution_count": 14,
     "metadata": {},
     "output_type": "execute_result"
    }
   ],
   "execution_count": 14
  },
  {
   "metadata": {
    "ExecuteTime": {
     "end_time": "2025-08-18T02:55:29.354116Z",
     "start_time": "2025-08-18T02:55:24.111342Z"
    }
   },
   "cell_type": "code",
   "source": [
    "ads_drop_level = f\"\"\"\n",
    "WITH base AS (\n",
    "SELECT\n",
    "    user_pseudo_id,\n",
    "    MIN(event_timestamp) AS start_level_ts,\n",
    "    level\n",
    "FROM `{project_id}.{schema_id}.start_level`\n",
    "WHERE user_pseudo_id IN {tuple(users_drop_imme)}\n",
    "GROUP BY user_pseudo_id, level\n",
    ")\n",
    ", base1 AS (\n",
    "SELECT\n",
    "    user_pseudo_id,\n",
    "    start_level_ts,\n",
    "    LEAD(start_level_ts) OVER(PARTITION BY user_pseudo_id ORDER BY start_level_ts) AS next_start_level_ts,\n",
    "    level,\n",
    "    LEAD(level) OVER(PARTITION BY user_pseudo_id ORDER BY start_level_ts) AS next_level\n",
    "FROM base\n",
    ")\n",
    "SELECT\n",
    "    s1.user_pseudo_id,\n",
    "    start_level_ts,\n",
    "    next_start_level_ts,\n",
    "    level,\n",
    "    next_level,\n",
    "    COUNT(DISTINCT s2.event_timestamp) AS iap_count,\n",
    "    SUM(event_value_in_usd) AS iap_revenue\n",
    "FROM base1 s1\n",
    "LEFT JOIN `{project_id}.{schema_id}.in_app_purchase` s2\n",
    "    ON s1.user_pseudo_id = s2.user_pseudo_id\n",
    "    AND s2.event_timestamp >= s1.start_level_ts\n",
    "    AND ((s2.event_timestamp <= s1.next_start_level_ts) OR (s1.next_start_level_ts IS NULL))\n",
    "GROUP BY user_pseudo_id, start_level_ts, next_start_level_ts, level, next_level\n",
    "ORDER BY user_pseudo_id, start_level_ts\n",
    "\"\"\"\n",
    "ads_drop_level = client.query(ads_drop_level).to_dataframe()\n",
    "ads_drop_level['iap_revenue'] = ads_drop_level['iap_revenue'].fillna(0)\n",
    "ads_drop_level['user_pseudo_id'].nunique()"
   ],
   "id": "a11a49816cc2efce",
   "outputs": [
    {
     "data": {
      "text/plain": [
       "64"
      ]
     },
     "execution_count": 24,
     "metadata": {},
     "output_type": "execute_result"
    }
   ],
   "execution_count": 24
  },
  {
   "metadata": {
    "ExecuteTime": {
     "end_time": "2025-08-18T07:37:02.872534Z",
     "start_time": "2025-08-18T07:37:02.575342Z"
    }
   },
   "cell_type": "code",
   "source": [
    "first_level_iap_ads = ads_drop_level[ads_drop_level['iap_count'] > 0].groupby('level')['user_pseudo_id'].nunique().reset_index()\n",
    "first_level_iap_ads['total_users_cum'] = first_level_iap_ads['user_pseudo_id'].cumsum()\n",
    "first_level_iap_ads['iap_rate'] = first_level_iap_ads['total_users_cum'] / (first_level_iap_ads['user_pseudo_id'].sum())\n",
    "\n",
    "fig, ax = plt.subplots(figsize=(10, 6))\n",
    "sns.barplot(data= first_level_iap_ads, x='level', y='iap_rate', ax=ax)\n",
    "ax.set_title('IAP Rate by Level for Users Who Bought Remove Ads First')\n",
    "ax.set_xlabel('Level')\n",
    "ax.set_ylabel('IAP Rate')\n",
    "ax.yaxis.set_major_formatter(FuncFormatter(lambda x, _: f'{x:.0%}'))\n",
    "ax.yaxis.set_major_locator(MultipleLocator(0.1))\n",
    "ax.xaxis.set_major_locator(MaxNLocator(integer=True))\n",
    "ax.xaxis.set_major_locator(MultipleLocator(1))\n",
    "plt.xticks(rotation=30)\n",
    "plt.tight_layout()\n",
    "plt.show()"
   ],
   "id": "b54d7b5a4d95a48c",
   "outputs": [
    {
     "data": {
      "text/plain": [
       "<Figure size 1000x600 with 1 Axes>"
      ],
      "image/png": "[encoded data removed]"
     },
     "metadata": {},
     "output_type": "display_data"
    }
   ],
   "execution_count": 129
  },
  {
   "metadata": {
    "ExecuteTime": {
     "end_time": "2025-08-18T07:40:02.270600Z",
     "start_time": "2025-08-18T07:40:01.912293Z"
    }
   },
   "cell_type": "code",
   "source": [
    "last_level_played = ads_drop_level.groupby('user_pseudo_id')['level'].max().reset_index()\n",
    "last_level_played = last_level_played.groupby('level')['user_pseudo_id'].nunique().reset_index(name='total_users')\n",
    "last_level_played['total_users_cum'] = last_level_played['total_users'].cumsum()\n",
    "last_level_played['drop_rate_cum'] = last_level_played['total_users_cum'] / (last_level_played['total_users'].sum())\n",
    "\n",
    "fig, ax = plt.subplots(figsize=(10, 6))\n",
    "sns.barplot(data= last_level_played, x='level', y='drop_rate_cum', ax=ax)\n",
    "ax.set_title('Drop Rate Cumulative by Level for Users Who Bought Remove Ads First')\n",
    "ax.set_xlabel('Level')\n",
    "ax.set_ylabel('Drop Rate Cumulative')\n",
    "ax.yaxis.set_major_formatter(FuncFormatter(lambda x, _: f'{x:.0%}'))\n",
    "ax.yaxis.set_major_locator(MultipleLocator(0.1))\n",
    "ax.xaxis.set_major_locator(MaxNLocator(integer=True))\n",
    "ax.xaxis.set_major_locator(MultipleLocator(1))\n",
    "plt.xticks(rotation=30)\n",
    "plt.tight_layout()\n",
    "plt.show()"
   ],
   "id": "55c41d341904b42c",
   "outputs": [
    {
     "data": {
      "text/plain": [
       "<Figure size 1000x600 with 1 Axes>"
      ],
      "image/png": "[encoded data removed]"
     },
     "metadata": {},
     "output_type": "display_data"
    }
   ],
   "execution_count": 131
  },
  {
   "metadata": {
    "ExecuteTime": {
     "end_time": "2025-08-18T03:59:19.893456Z",
     "start_time": "2025-08-18T03:59:19.661939Z"
    }
   },
   "cell_type": "code",
   "source": [
    "ads_drop_level['level_drop'] = (\n",
    "    ads_drop_level.groupby('user_pseudo_id')['level']\n",
    "    .transform('max')\n",
    ")\n",
    "iap_to_drop = ads_drop_level[ads_drop_level['iap_count'] > 0].copy()\n",
    "iap_to_drop['level_diff'] = iap_to_drop['level_drop'] - iap_to_drop['level']\n",
    "\n",
    "# Tính ngưỡng 75%\n",
    "q80 = iap_to_drop['level_diff'].dropna().quantile(0.80)\n",
    "\n",
    "fig, ax = plt.subplots(figsize=(8,4))\n",
    "sns.histplot(\n",
    "    data=iap_to_drop,\n",
    "    x='level_diff',\n",
    "    bins=30,\n",
    "    kde=True,\n",
    "    stat='density',\n",
    "    edgecolor='black',\n",
    "    ax=ax\n",
    ")\n",
    "\n",
    "# Vẽ đường dọc tại 75th percentile\n",
    "ax.axvline(q80, linestyle='--', linewidth=2, color='red', label=f'80th pct = {q80:.2f}')\n",
    "\n",
    "# (tuỳ chọn) tô vùng bên trái ngưỡng để nhấn mạnh “0–75%”\n",
    "ax.axvspan(iap_to_drop['level_diff'].min(), q80, alpha=0.12)\n",
    "\n",
    "ax.set_title('Distribution of Level Difference from IAP to Drop')\n",
    "ax.set_xlabel('Level Difference (Drop Level - IAP Level)')\n",
    "ax.set_ylabel('Density')\n",
    "ax.grid(axis='y', linestyle='--', alpha=0.7)\n",
    "ax.legend()\n",
    "plt.tight_layout()\n",
    "plt.show()"
   ],
   "id": "e1774a99f82645ac",
   "outputs": [
    {
     "data": {
      "text/plain": [
       "<Figure size 800x400 with 1 Axes>"
      ],
      "image/png": "[encoded data removed]"
     },
     "metadata": {},
     "output_type": "display_data"
    }
   ],
   "execution_count": 83
  },
  {
   "metadata": {},
   "cell_type": "markdown",
   "source": [
    "Trong số 30% Users Drop sau khi mua IAP gói Remove Ads:\n",
    "- Gần 90% users mua trước level 45\n",
    "- Gần 90% users drop trước level 57\n",
    "- 80% users chơi tiếp tối đa khoảng 20 levels trước khi drops"
   ],
   "id": "3da4613b0e488726"
  },
  {
   "metadata": {},
   "cell_type": "markdown",
   "source": [
    "\n",
    "**Kết Luận:**\n",
    "- Trong số 64% Users mua tiếp gói IAP thứ hai:\n",
    "    - 80% users mua iap lần đầu trước level 45\n",
    "    - 80% users sẽ mua tiếp gói iap thứ hai trước level 55\n",
    "    - 80% users sẽ chơi tiếp khoảng 13 levels rồi mua gói IAP thứ hai\n",
    "\n",
    "/\n",
    "\n",
    "- Trong số 30% Users Drop sau khi mua IAP gói Remove Ads:\n",
    "    - Gần 90% users mua trước level 45\n",
    "    - Gần 90% users drop trước level 57\n",
    "    - 80% users chơi tiếp tối đa khoảng 20 levels trước khi drop\n",
    "\n",
    "****\n",
    "**Đề xuất:**\n",
    "- Sau khi users mua gói removeads lần đầu, sẽ bóp tài nguyên khoảng 10 levels tiếp theo\n",
    "- Nếu sau 10 levels đó mà chưa phát sinh gói IAP thứ 2 thì mở lại rw ads với tuần suất 4-5 levels một lần\n",
    "- Nếu tiếp tục sau 10 levels vẫn không phát sinh gói IAP thứ 2 thì mở lại full rw ads"
   ],
   "id": "145f43794e27f5e1"
  },
  {
   "metadata": {},
   "cell_type": "markdown",
   "source": "# Journey của nhóm mua các gói tài nguyên lần đầu tiên",
   "id": "9306ab227ccac30d"
  },
  {
   "metadata": {
    "ExecuteTime": {
     "end_time": "2025-08-18T07:45:15.717279Z",
     "start_time": "2025-08-18T07:45:15.185324Z"
    }
   },
   "cell_type": "code",
   "source": [
    "\n",
    "resource_iap = final_data[~final_data['first_product_iap'].str.contains('removeads')].reset_index(drop=True)\n",
    "resource_stream = resource_iap[['user_pseudo_id', 'event_name', 'event_timestamp']]\n",
    "resource_stream.rename(columns={\n",
    "    'user_pseudo_id': 'user_id',\n",
    "    'event_timestamp': 'timestamp',\n",
    "    'event_name': 'event'\n",
    "}, inplace=True)\n",
    "\n",
    "resource_step = Eventstream(resource_stream).step_matrix(\n",
    "    max_steps=10,\n",
    "    show_plot=False,\n",
    ")\n",
    "\n",
    "ax = resource_step.plot()\n",
    "fig = ax.get_figure()\n",
    "fig.set_size_inches(12, 6)\n",
    "ax.set_title(\"IAP Step Matrix (Buy Remove Ads First)\")\n",
    "plt.show()"
   ],
   "id": "f0ccfcad5d1b5761",
   "outputs": [
    {
     "name": "stderr",
     "output_type": "stream",
     "text": [
      "C:\\Users\\PC\\AppData\\Local\\Temp\\ipykernel_14040\\1396579438.py:3: SettingWithCopyWarning:\n",
      "\n",
      "\n",
      "A value is trying to be set on a copy of a slice from a DataFrame\n",
      "\n",
      "See the caveats in the documentation: https://pandas.pydata.org/pandas-docs/stable/user_guide/indexing.html#returning-a-view-versus-a-copy\n",
      "\n"
     ]
    },
    {
     "data": {
      "text/plain": [
       "<Figure size 1200x600 with 1 Axes>"
      ],
      "image/png": "[encoded data removed]"
     },
     "metadata": {},
     "output_type": "display_data"
    }
   ],
   "execution_count": 134
  },
  {
   "metadata": {
    "ExecuteTime": {
     "end_time": "2025-08-18T04:26:36.273469Z",
     "start_time": "2025-08-18T04:26:35.840496Z"
    }
   },
   "cell_type": "code",
   "source": [
    "\n",
    "Eventstream(resource_stream).step_sankey(\n",
    "    max_steps=10,\n",
    "    show_plot=True,\n",
    ")"
   ],
   "id": "39dae4e5b03cefa",
   "outputs": [
    {
     "data": {
      "application/vnd.plotly.v1+json": {
       "data": [
        {
         "arrangement": "snap",
         "link": {
          "hovertemplate": "%{value} unique users went from %{source.label} to %{target.label}.<br /><br />It took them %{label} in average.<extra></extra>",
          "label": [
           "0 days 00:00:00",
           "0 days 00:01:59",
           "0 days 00:04:04",
           "0 days 00:00:00",
           "0 days 00:02:01",
           "0 days 00:02:54",
           "0 days 00:00:00",
           "0 days 00:00:00",
           "0 days 00:00:00",
           "0 days 00:01:44",
           "0 days 00:04:57",
           "0 days 00:00:00",
           "0 days 00:00:00",
           "0 days 00:00:00",
           "0 days 00:01:44",
           "0 days 00:02:22",
           "0 days 00:00:00",
           "0 days 00:00:00",
           "0 days 00:00:00",
           "0 days 00:01:40",
           "0 days 00:00:00",
           "0 days 00:03:57",
           "0 days 00:00:00",
           "0 days 00:00:00",
           "0 days 00:01:08",
           "0 days 00:02:35",
           "0 days 00:00:00",
           "0 days 00:00:00",
           "0 days 00:00:00",
           "0 days 00:00:51",
           "0 days 00:00:00",
           "0 days 00:04:53",
           "0 days 00:00:00",
           "0 days 00:00:00",
           "0 days 00:01:01",
           "0 days 00:02:32",
           "0 days 00:00:00",
           "0 days 00:00:00",
           "0 days 00:00:00"
          ],
          "source": [
           0,
           1,
           1,
           1,
           2,
           2,
           2,
           3,
           4,
           5,
           5,
           5,
           6,
           7,
           8,
           8,
           8,
           9,
           10,
           11,
           11,
           11,
           12,
           13,
           14,
           14,
           14,
           15,
           16,
           17,
           17,
           17,
           18,
           19,
           20,
           20,
           20,
           21,
           22
          ],
          "target": [
           1,
           2,
           3,
           4,
           5,
           6,
           7,
           7,
           7,
           8,
           9,
           10,
           10,
           10,
           11,
           12,
           13,
           13,
           13,
           14,
           16,
           15,
           16,
           16,
           17,
           18,
           19,
           19,
           19,
           20,
           22,
           21,
           22,
           22,
           23,
           24,
           25,
           25,
           25
          ],
          "value": [
           227,
           161,
           55,
           11,
           121,
           30,
           10,
           55,
           11,
           100,
           16,
           5,
           30,
           76,
           81,
           11,
           8,
           16,
           111,
           71,
           5,
           5,
           11,
           135,
           62,
           6,
           3,
           5,
           151,
           55,
           5,
           2,
           6,
           159,
           46,
           7,
           2,
           2,
           170
          ]
         },
         "node": {
          "color": [
           "rgb(80, 190, 151)",
           "rgb(228, 101, 92)",
           "rgb(228, 101, 92)",
           "rgb(252, 200, 101)",
           "rgb(191, 214, 222)",
           "rgb(228, 101, 92)",
           "rgb(252, 200, 101)",
           "rgb(191, 214, 222)",
           "rgb(228, 101, 92)",
           "rgb(252, 200, 101)",
           "rgb(191, 214, 222)",
           "rgb(228, 101, 92)",
           "rgb(252, 200, 101)",
           "rgb(191, 214, 222)",
           "rgb(228, 101, 92)",
           "rgb(252, 200, 101)",
           "rgb(191, 214, 222)",
           "rgb(228, 101, 92)",
           "rgb(252, 200, 101)",
           "rgb(191, 214, 222)",
           "rgb(228, 101, 92)",
           "rgb(252, 200, 101)",
           "rgb(191, 214, 222)",
           "rgb(228, 101, 92)",
           "rgb(252, 200, 101)",
           "rgb(191, 214, 222)"
          ],
          "customdata": [
           100.0,
           100.0,
           70.93,
           24.23,
           4.85,
           53.3,
           13.22,
           33.48,
           44.05,
           7.05,
           48.9,
           35.68,
           4.85,
           59.47,
           31.28,
           2.2,
           66.52,
           27.31,
           2.64,
           70.04,
           24.23,
           0.88,
           74.89,
           20.26,
           3.08,
           76.65
          ],
          "hovertemplate": "Total unique users: %{value} (%{customdata}% of total)<extra></extra>",
          "label": [
           "path_start",
           "in_app_purchase",
           "in_app_purchase",
           "drop",
           "ENDED",
           "in_app_purchase",
           "drop",
           "ENDED",
           "in_app_purchase",
           "drop",
           "ENDED",
           "in_app_purchase",
           "drop",
           "ENDED",
           "in_app_purchase",
           "drop",
           "ENDED",
           "in_app_purchase",
           "drop",
           "ENDED",
           "in_app_purchase",
           "drop",
           "ENDED",
           "in_app_purchase",
           "drop",
           "ENDED"
          ],
          "line": {
           "color": "black",
           "width": 0.5
          },
          "pad": 20,
          "thickness": 15,
          "x": [
           0.05,
           0.15,
           0.25,
           0.25,
           0.25,
           0.35,
           0.35,
           0.35,
           0.45,
           0.45,
           0.45,
           0.55,
           0.55,
           0.55,
           0.65,
           0.65,
           0.65,
           0.75,
           0.75,
           0.75,
           0.85,
           0.85,
           0.85,
           0.95,
           0.95,
           0.95
          ],
          "y": [
           0.05,
           0.05,
           0.05,
           0.5,
           0.95,
           0.05,
           0.5,
           0.95,
           0.05,
           0.5,
           0.95,
           0.05,
           0.5,
           0.95,
           0.05,
           0.5,
           0.95,
           0.05,
           0.5,
           0.95,
           0.05,
           0.5,
           0.95,
           0.05,
           0.5,
           0.95
          ]
         },
         "type": "sankey"
        }
       ],
       "layout": {
        "template": {
         "data": {
          "histogram2dcontour": [
           {
            "type": "histogram2dcontour",
            "colorbar": {
             "outlinewidth": 0,
             "ticks": ""
            },
            "colorscale": [
             [
              0.0,
              "#0d0887"
             ],
             [
              0.1111111111111111,
              "#46039f"
             ],
             [
              0.2222222222222222,
              "#7201a8"
             ],
             [
              0.3333333333333333,
              "#9c179e"
             ],
             [
              0.4444444444444444,
              "#bd3786"
             ],
             [
              0.5555555555555556,
              "#d8576b"
             ],
             [
              0.6666666666666666,
              "#ed7953"
             ],
             [
              0.7777777777777778,
              "#fb9f3a"
             ],
             [
              0.8888888888888888,
              "#fdca26"
             ],
             [
              1.0,
              "#f0f921"
             ]
            ]
           }
          ],
          "choropleth": [
           {
            "type": "choropleth",
            "colorbar": {
             "outlinewidth": 0,
             "ticks": ""
            }
           }
          ],
          "histogram2d": [
           {
            "type": "histogram2d",
            "colorbar": {
             "outlinewidth": 0,
             "ticks": ""
            },
            "colorscale": [
             [
              0.0,
              "#0d0887"
             ],
             [
              0.1111111111111111,
              "#46039f"
             ],
             [
              0.2222222222222222,
              "#7201a8"
             ],
             [
              0.3333333333333333,
              "#9c179e"
             ],
             [
              0.4444444444444444,
              "#bd3786"
             ],
             [
              0.5555555555555556,
              "#d8576b"
             ],
             [
              0.6666666666666666,
              "#ed7953"
             ],
             [
              0.7777777777777778,
              "#fb9f3a"
             ],
             [
              0.8888888888888888,
              "#fdca26"
             ],
             [
              1.0,
              "#f0f921"
             ]
            ]
           }
          ],
          "heatmap": [
           {
            "type": "heatmap",
            "colorbar": {
             "outlinewidth": 0,
             "ticks": ""
            },
            "colorscale": [
             [
              0.0,
              "#0d0887"
             ],
             [
              0.1111111111111111,
              "#46039f"
             ],
             [
              0.2222222222222222,
              "#7201a8"
             ],
             [
              0.3333333333333333,
              "#9c179e"
             ],
             [
              0.4444444444444444,
              "#bd3786"
             ],
             [
              0.5555555555555556,
              "#d8576b"
             ],
             [
              0.6666666666666666,
              "#ed7953"
             ],
             [
              0.7777777777777778,
              "#fb9f3a"
             ],
             [
              0.8888888888888888,
              "#fdca26"
             ],
             [
              1.0,
              "#f0f921"
             ]
            ]
           }
          ],
          "contourcarpet": [
           {
            "type": "contourcarpet",
            "colorbar": {
             "outlinewidth": 0,
             "ticks": ""
            }
           }
          ],
          "contour": [
           {
            "type": "contour",
            "colorbar": {
             "outlinewidth": 0,
             "ticks": ""
            },
            "colorscale": [
             [
              0.0,
              "#0d0887"
             ],
             [
              0.1111111111111111,
              "#46039f"
             ],
             [
              0.2222222222222222,
              "#7201a8"
             ],
             [
              0.3333333333333333,
              "#9c179e"
             ],
             [
              0.4444444444444444,
              "#bd3786"
             ],
             [
              0.5555555555555556,
              "#d8576b"
             ],
             [
              0.6666666666666666,
              "#ed7953"
             ],
             [
              0.7777777777777778,
              "#fb9f3a"
             ],
             [
              0.8888888888888888,
              "#fdca26"
             ],
             [
              1.0,
              "#f0f921"
             ]
            ]
           }
          ],
          "surface": [
           {
            "type": "surface",
            "colorbar": {
             "outlinewidth": 0,
             "ticks": ""
            },
            "colorscale": [
             [
              0.0,
              "#0d0887"
             ],
             [
              0.1111111111111111,
              "#46039f"
             ],
             [
              0.2222222222222222,
              "#7201a8"
             ],
             [
              0.3333333333333333,
              "#9c179e"
             ],
             [
              0.4444444444444444,
              "#bd3786"
             ],
             [
              0.5555555555555556,
              "#d8576b"
             ],
             [
              0.6666666666666666,
              "#ed7953"
             ],
             [
              0.7777777777777778,
              "#fb9f3a"
             ],
             [
              0.8888888888888888,
              "#fdca26"
             ],
             [
              1.0,
              "#f0f921"
             ]
            ]
           }
          ],
          "mesh3d": [
           {
            "type": "mesh3d",
            "colorbar": {
             "outlinewidth": 0,
             "ticks": ""
            }
           }
          ],
          "scatter": [
           {
            "fillpattern": {
             "fillmode": "overlay",
             "size": 10,
             "solidity": 0.2
            },
            "type": "scatter"
           }
          ],
          "parcoords": [
           {
            "type": "parcoords",
            "line": {
             "colorbar": {
              "outlinewidth": 0,
              "ticks": ""
             }
            }
           }
          ],
          "scatterpolargl": [
           {
            "type": "scatterpolargl",
            "marker": {
             "colorbar": {
              "outlinewidth": 0,
              "ticks": ""
             }
            }
           }
          ],
          "bar": [
           {
            "error_x": {
             "color": "#2a3f5f"
            },
            "error_y": {
             "color": "#2a3f5f"
            },
            "marker": {
             "line": {
              "color": "#E5ECF6",
              "width": 0.5
             },
             "pattern": {
              "fillmode": "overlay",
              "size": 10,
              "solidity": 0.2
             }
            },
            "type": "bar"
           }
          ],
          "scattergeo": [
           {
            "type": "scattergeo",
            "marker": {
             "colorbar": {
              "outlinewidth": 0,
              "ticks": ""
             }
            }
           }
          ],
          "scatterpolar": [
           {
            "type": "scatterpolar",
            "marker": {
             "colorbar": {
              "outlinewidth": 0,
              "ticks": ""
             }
            }
           }
          ],
          "histogram": [
           {
            "marker": {
             "pattern": {
              "fillmode": "overlay",
              "size": 10,
              "solidity": 0.2
             }
            },
            "type": "histogram"
           }
          ],
          "scattergl": [
           {
            "type": "scattergl",
            "marker": {
             "colorbar": {
              "outlinewidth": 0,
              "ticks": ""
             }
            }
           }
          ],
          "scatter3d": [
           {
            "type": "scatter3d",
            "line": {
             "colorbar": {
              "outlinewidth": 0,
              "ticks": ""
             }
            },
            "marker": {
             "colorbar": {
              "outlinewidth": 0,
              "ticks": ""
             }
            }
           }
          ],
          "scattermap": [
           {
            "type": "scattermap",
            "marker": {
             "colorbar": {
              "outlinewidth": 0,
              "ticks": ""
             }
            }
           }
          ],
          "scattermapbox": [
           {
            "type": "scattermapbox",
            "marker": {
             "colorbar": {
              "outlinewidth": 0,
              "ticks": ""
             }
            }
           }
          ],
          "scatterternary": [
           {
            "type": "scatterternary",
            "marker": {
             "colorbar": {
              "outlinewidth": 0,
              "ticks": ""
             }
            }
           }
          ],
          "scattercarpet": [
           {
            "type": "scattercarpet",
            "marker": {
             "colorbar": {
              "outlinewidth": 0,
              "ticks": ""
             }
            }
           }
          ],
          "carpet": [
           {
            "aaxis": {
             "endlinecolor": "#2a3f5f",
             "gridcolor": "white",
             "linecolor": "white",
             "minorgridcolor": "white",
             "startlinecolor": "#2a3f5f"
            },
            "baxis": {
             "endlinecolor": "#2a3f5f",
             "gridcolor": "white",
             "linecolor": "white",
             "minorgridcolor": "white",
             "startlinecolor": "#2a3f5f"
            },
            "type": "carpet"
           }
          ],
          "table": [
           {
            "cells": {
             "fill": {
              "color": "#EBF0F8"
             },
             "line": {
              "color": "white"
             }
            },
            "header": {
             "fill": {
              "color": "#C8D4E3"
             },
             "line": {
              "color": "white"
             }
            },
            "type": "table"
           }
          ],
          "barpolar": [
           {
            "marker": {
             "line": {
              "color": "#E5ECF6",
              "width": 0.5
             },
             "pattern": {
              "fillmode": "overlay",
              "size": 10,
              "solidity": 0.2
             }
            },
            "type": "barpolar"
           }
          ],
          "pie": [
           {
            "automargin": true,
            "type": "pie"
           }
          ]
         },
         "layout": {
          "autotypenumbers": "strict",
          "colorway": [
           "#636efa",
           "#EF553B",
           "#00cc96",
           "#ab63fa",
           "#FFA15A",
           "#19d3f3",
           "#FF6692",
           "#B6E880",
           "#FF97FF",
           "#FECB52"
          ],
          "font": {
           "color": "#2a3f5f"
          },
          "hovermode": "closest",
          "hoverlabel": {
           "align": "left"
          },
          "paper_bgcolor": "white",
          "plot_bgcolor": "#E5ECF6",
          "polar": {
           "bgcolor": "#E5ECF6",
           "angularaxis": {
            "gridcolor": "white",
            "linecolor": "white",
            "ticks": ""
           },
           "radialaxis": {
            "gridcolor": "white",
            "linecolor": "white",
            "ticks": ""
           }
          },
          "ternary": {
           "bgcolor": "#E5ECF6",
           "aaxis": {
            "gridcolor": "white",
            "linecolor": "white",
            "ticks": ""
           },
           "baxis": {
            "gridcolor": "white",
            "linecolor": "white",
            "ticks": ""
           },
           "caxis": {
            "gridcolor": "white",
            "linecolor": "white",
            "ticks": ""
           }
          },
          "coloraxis": {
           "colorbar": {
            "outlinewidth": 0,
            "ticks": ""
           }
          },
          "colorscale": {
           "sequential": [
            [
             0.0,
             "#0d0887"
            ],
            [
             0.1111111111111111,
             "#46039f"
            ],
            [
             0.2222222222222222,
             "#7201a8"
            ],
            [
             0.3333333333333333,
             "#9c179e"
            ],
            [
             0.4444444444444444,
             "#bd3786"
            ],
            [
             0.5555555555555556,
             "#d8576b"
            ],
            [
             0.6666666666666666,
             "#ed7953"
            ],
            [
             0.7777777777777778,
             "#fb9f3a"
            ],
            [
             0.8888888888888888,
             "#fdca26"
            ],
            [
             1.0,
             "#f0f921"
            ]
           ],
           "sequentialminus": [
            [
             0.0,
             "#0d0887"
            ],
            [
             0.1111111111111111,
             "#46039f"
            ],
            [
             0.2222222222222222,
             "#7201a8"
            ],
            [
             0.3333333333333333,
             "#9c179e"
            ],
            [
             0.4444444444444444,
             "#bd3786"
            ],
            [
             0.5555555555555556,
             "#d8576b"
            ],
            [
             0.6666666666666666,
             "#ed7953"
            ],
            [
             0.7777777777777778,
             "#fb9f3a"
            ],
            [
             0.8888888888888888,
             "#fdca26"
            ],
            [
             1.0,
             "#f0f921"
            ]
           ],
           "diverging": [
            [
             0,
             "#8e0152"
            ],
            [
             0.1,
             "#c51b7d"
            ],
            [
             0.2,
             "#de77ae"
            ],
            [
             0.3,
             "#f1b6da"
            ],
            [
             0.4,
             "#fde0ef"
            ],
            [
             0.5,
             "#f7f7f7"
            ],
            [
             0.6,
             "#e6f5d0"
            ],
            [
             0.7,
             "#b8e186"
            ],
            [
             0.8,
             "#7fbc41"
            ],
            [
             0.9,
             "#4d9221"
            ],
            [
             1,
             "#276419"
            ]
           ]
          },
          "xaxis": {
           "gridcolor": "white",
           "linecolor": "white",
           "ticks": "",
           "title": {
            "standoff": 15
           },
           "zerolinecolor": "white",
           "automargin": true,
           "zerolinewidth": 2
          },
          "yaxis": {
           "gridcolor": "white",
           "linecolor": "white",
           "ticks": "",
           "title": {
            "standoff": 15
           },
           "zerolinecolor": "white",
           "automargin": true,
           "zerolinewidth": 2
          },
          "scene": {
           "xaxis": {
            "backgroundcolor": "#E5ECF6",
            "gridcolor": "white",
            "linecolor": "white",
            "showbackground": true,
            "ticks": "",
            "zerolinecolor": "white",
            "gridwidth": 2
           },
           "yaxis": {
            "backgroundcolor": "#E5ECF6",
            "gridcolor": "white",
            "linecolor": "white",
            "showbackground": true,
            "ticks": "",
            "zerolinecolor": "white",
            "gridwidth": 2
           },
           "zaxis": {
            "backgroundcolor": "#E5ECF6",
            "gridcolor": "white",
            "linecolor": "white",
            "showbackground": true,
            "ticks": "",
            "zerolinecolor": "white",
            "gridwidth": 2
           }
          },
          "shapedefaults": {
           "line": {
            "color": "#2a3f5f"
           }
          },
          "annotationdefaults": {
           "arrowcolor": "#2a3f5f",
           "arrowhead": 0,
           "arrowwidth": 1
          },
          "geo": {
           "bgcolor": "white",
           "landcolor": "#E5ECF6",
           "subunitcolor": "white",
           "showland": true,
           "showlakes": true,
           "lakecolor": "white"
          },
          "title": {
           "x": 0.05
          },
          "mapbox": {
           "style": "light"
          }
         }
        },
        "font": {
         "size": 15
        },
        "plot_bgcolor": "white",
        "autosize": true
       },
       "config": {
        "plotlyServerURL": "https://plot.ly"
       }
      }
     },
     "metadata": {},
     "output_type": "display_data"
    },
    {
     "data": {
      "text/plain": [
       "<retentioneering.tooling.step_sankey.step_sankey.StepSankey at 0x1c68e0e3670>"
      ]
     },
     "execution_count": 93,
     "metadata": {},
     "output_type": "execute_result"
    }
   ],
   "execution_count": 93
  },
  {
   "metadata": {},
   "cell_type": "markdown",
   "source": [
    "Trong số những người dùng mua IAP các gói Resources đầu tiên:\n",
    "- Khoảng 71% người dùng sẽ mua tiếp gói IAP thứ hai\n",
    "- Khoảng 24% người dùng sẽ drop\n",
    "- Khoảng 5% người dùng không drop cũng không mua tiếp gói IAP nào nữa"
   ],
   "id": "5983056bb6fbdb71"
  },
  {
   "metadata": {},
   "cell_type": "markdown",
   "source": "## Phân tích 71% Users mua tiếp có đặc điểm gì chung?",
   "id": "d4a98d4b38417e8b"
  },
  {
   "metadata": {
    "ExecuteTime": {
     "end_time": "2025-08-18T07:46:45.699554Z",
     "start_time": "2025-08-18T07:46:45.678939Z"
    }
   },
   "cell_type": "code",
   "source": "rs_users_active = resource_iap[resource_iap['event_name'] != 'drop']['user_pseudo_id'].unique().tolist()",
   "id": "afde3c5396028b0a",
   "outputs": [],
   "execution_count": 135
  },
  {
   "metadata": {
    "ExecuteTime": {
     "end_time": "2025-08-18T07:46:50.732444Z",
     "start_time": "2025-08-18T07:46:46.519473Z"
    }
   },
   "cell_type": "code",
   "source": [
    "rs_active_level = f\"\"\"\n",
    "WITH base AS (\n",
    "SELECT\n",
    "    user_pseudo_id,\n",
    "    MIN(event_timestamp) AS start_level_ts,\n",
    "    level\n",
    "FROM `{project_id}.{schema_id}.start_level`\n",
    "WHERE user_pseudo_id IN {tuple(rs_users_active)}\n",
    "GROUP BY user_pseudo_id, level\n",
    ")\n",
    ", base1 AS (\n",
    "SELECT\n",
    "    user_pseudo_id,\n",
    "    start_level_ts,\n",
    "    LEAD(start_level_ts) OVER(PARTITION BY user_pseudo_id ORDER BY start_level_ts) AS next_start_level_ts,\n",
    "    level,\n",
    "    LEAD(level) OVER(PARTITION BY user_pseudo_id ORDER BY start_level_ts) AS next_level\n",
    "FROM base\n",
    ")\n",
    "SELECT\n",
    "    s1.user_pseudo_id,\n",
    "    start_level_ts,\n",
    "    next_start_level_ts,\n",
    "    level,\n",
    "    next_level,\n",
    "    COUNT(DISTINCT s2.event_timestamp) AS iap_count,\n",
    "    SUM(event_value_in_usd) AS iap_revenue\n",
    "FROM base1 s1\n",
    "LEFT JOIN `{project_id}.{schema_id}.in_app_purchase` s2\n",
    "    ON s1.user_pseudo_id = s2.user_pseudo_id\n",
    "    AND s2.event_timestamp >= s1.start_level_ts\n",
    "    AND ((s2.event_timestamp <= s1.next_start_level_ts) OR (s1.next_start_level_ts IS NULL))\n",
    "GROUP BY user_pseudo_id, start_level_ts, next_start_level_ts, level, next_level\n",
    "ORDER BY user_pseudo_id, start_level_ts\n",
    "\"\"\"\n",
    "rs_active_level = client.query(rs_active_level).to_dataframe()\n",
    "rs_active_level['iap_revenue'] = rs_active_level['iap_revenue'].fillna(0)\n",
    "rs_active_level['user_pseudo_id'].nunique()"
   ],
   "id": "8dedbbe85ddb4b4d",
   "outputs": [
    {
     "data": {
      "text/plain": [
       "227"
      ]
     },
     "execution_count": 136,
     "metadata": {},
     "output_type": "execute_result"
    }
   ],
   "execution_count": 136
  },
  {
   "metadata": {
    "ExecuteTime": {
     "end_time": "2025-08-18T07:46:51.521660Z",
     "start_time": "2025-08-18T07:46:50.828406Z"
    }
   },
   "cell_type": "code",
   "source": [
    "first_level_iap_rs = rs_active_level[rs_active_level['iap_count'] > 0].groupby('user_pseudo_id')['level'].min().reset_index()\n",
    "first_level_iap_rs = first_level_iap_rs.groupby('level')['user_pseudo_id'].nunique().reset_index()\n",
    "first_level_iap_rs['total_users_cum'] = first_level_iap_rs['user_pseudo_id'].cumsum()\n",
    "first_level_iap_rs['iap_rate'] = first_level_iap_rs['total_users_cum'] / (first_level_iap_rs['user_pseudo_id'].sum())\n",
    "\n",
    "fig, ax = plt.subplots(figsize=(16, 5))\n",
    "sns.barplot(data= first_level_iap_rs, x='level', y='iap_rate', ax=ax)\n",
    "ax.set_title('IAP Rate by Level of Users Who Bought Resources First')\n",
    "ax.set_xlabel('Level')\n",
    "ax.set_ylabel('IAP Rate')\n",
    "ax.yaxis.set_major_formatter(FuncFormatter(lambda x, _: f'{x:.0%}'))\n",
    "ax.yaxis.set_major_locator(MultipleLocator(0.1))\n",
    "ax.xaxis.set_major_locator(MaxNLocator(integer=True))\n",
    "ax.xaxis.set_major_locator(MultipleLocator(1))\n",
    "plt.xticks(rotation=30)\n",
    "plt.tight_layout()\n",
    "plt.show()"
   ],
   "id": "f01600f093a9b088",
   "outputs": [
    {
     "data": {
      "text/plain": [
       "<Figure size 1600x500 with 1 Axes>"
      ],
      "image/png": "[encoded data removed]"
     },
     "metadata": {},
     "output_type": "display_data"
    }
   ],
   "execution_count": 137
  },
  {
   "metadata": {
    "ExecuteTime": {
     "end_time": "2025-08-18T07:48:15.485577Z",
     "start_time": "2025-08-18T07:48:14.975162Z"
    }
   },
   "cell_type": "code",
   "source": [
    "iap_oder = rs_active_level[rs_active_level['iap_count'] > 0].sort_values(by=['user_pseudo_id', 'start_level_ts']).reset_index(drop=True)\n",
    "iap_oder['iap_order'] = iap_oder.groupby('user_pseudo_id').cumcount() + 1\n",
    "second_iap = iap_oder[iap_oder['iap_order'] == 2]\n",
    "second_iap_level = second_iap.groupby('level')['user_pseudo_id'].nunique().reset_index(name='total_users')\n",
    "second_iap_level['total_users_cum'] = second_iap_level['total_users'].cumsum()\n",
    "second_iap_level['iap_rate'] = second_iap_level['total_users_cum'] / (second_iap_level['total_users'].sum())\n",
    "\n",
    "fig, ax = plt.subplots(figsize=(16, 5))\n",
    "sns.barplot(data= second_iap_level, x='level', y='iap_rate', ax=ax)\n",
    "ax.set_title('Second IAP Rate by Level')\n",
    "ax.set_xlabel('Level')\n",
    "ax.set_ylabel('IAP Rate')\n",
    "ax.yaxis.set_major_formatter(FuncFormatter(lambda x, _: f'{x:.0%}'))\n",
    "ax.yaxis.set_major_locator(MultipleLocator(0.1))\n",
    "ax.xaxis.set_major_locator(MaxNLocator(integer=True))\n",
    "ax.xaxis.set_major_locator(MultipleLocator(1))\n",
    "plt.xticks(rotation=30)\n",
    "plt.tight_layout()\n",
    "plt.show()"
   ],
   "id": "70594872942055c4",
   "outputs": [
    {
     "data": {
      "text/plain": [
       "<Figure size 1600x500 with 1 Axes>"
      ],
      "image/png": "[encoded data removed]"
     },
     "metadata": {},
     "output_type": "display_data"
    }
   ],
   "execution_count": 139
  },
  {
   "metadata": {
    "ExecuteTime": {
     "end_time": "2025-08-18T07:50:56.491433Z",
     "start_time": "2025-08-18T07:50:56.169427Z"
    }
   },
   "cell_type": "code",
   "source": [
    "iap_oder['next_level_iap'] = iap_oder.groupby('user_pseudo_id')['level'].shift(-1)\n",
    "iap_oder['level_diff'] = iap_oder['next_level_iap'] - iap_oder['level']\n",
    "avg_level_diff = iap_oder[iap_oder['iap_order'] == 2].groupby('level_diff')['user_pseudo_id'].nunique().reset_index(name='total_users')\n",
    "avg_level_diff['total_users_cum'] = avg_level_diff['total_users'].cumsum()\n",
    "avg_level_diff['level_diff_mean'] = avg_level_diff['total_users_cum'] / (avg_level_diff['total_users'].sum())\n",
    "\n",
    "fig, ax = plt.subplots(figsize=(12, 5))\n",
    "sns.barplot(data= avg_level_diff, x='level_diff', y='level_diff_mean', ax=ax)\n",
    "ax.set_title('Second IAP Rate by Level Difference')\n",
    "ax.set_xlabel('Level Difference (Next Level IAP - Current Level IAP)')\n",
    "ax.set_ylabel('IAP Rate')\n",
    "ax.yaxis.set_major_formatter(FuncFormatter(lambda x, _: f'{x:.0%}'))\n",
    "ax.yaxis.set_major_locator(MultipleLocator(0.1))\n",
    "ax.xaxis.set_major_locator(MaxNLocator(integer=True))\n",
    "ax.xaxis.set_major_locator(MultipleLocator(1))\n",
    "plt.xticks(rotation=30)\n",
    "plt.tight_layout()\n",
    "plt.show()"
   ],
   "id": "a3b1b45cecb4ff24",
   "outputs": [
    {
     "data": {
      "text/plain": [
       "<Figure size 1200x500 with 1 Axes>"
      ],
      "image/png": "[encoded data removed]"
     },
     "metadata": {},
     "output_type": "display_data"
    }
   ],
   "execution_count": 141
  },
  {
   "metadata": {},
   "cell_type": "markdown",
   "source": [
    "Trong số 71% Users mua tiếp gói IAP thứ hai:\n",
    "- 80% users mua iap lần đầu trước level 47\n",
    "- 80% users sẽ mua tiếp gói iap thứ hai trước level 50\n",
    "- 80% users sẽ chơi tiếp khoảng 10 levels rồi mua gói IAP thứ hai."
   ],
   "id": "ed6490a217254f17"
  },
  {
   "metadata": {},
   "cell_type": "markdown",
   "source": "## Phân tích 24% Users Drop có đặc điểm gì chung?",
   "id": "8107c0ad170976cc"
  },
  {
   "metadata": {
    "ExecuteTime": {
     "end_time": "2025-08-18T07:53:36.873926Z",
     "start_time": "2025-08-18T07:53:36.848865Z"
    }
   },
   "cell_type": "code",
   "source": [
    "resource_users_drop = resource_iap[resource_iap['event_name'] == 'drop']['user_pseudo_id'].unique().tolist()\n",
    "resource_drop_data = resource_iap[resource_iap['user_pseudo_id'].isin(resource_users_drop)].groupby('user_pseudo_id')['event_timestamp'].nunique().reset_index()\n",
    "users_drop_imme = resource_drop_data[resource_drop_data['event_timestamp'] == 2]['user_pseudo_id'].unique().tolist()"
   ],
   "id": "d3ae7028866aa7de",
   "outputs": [],
   "execution_count": 143
  },
  {
   "metadata": {
    "ExecuteTime": {
     "end_time": "2025-08-18T07:53:41.749231Z",
     "start_time": "2025-08-18T07:53:37.934917Z"
    }
   },
   "cell_type": "code",
   "source": [
    "query_rs_drop = f\"\"\"\n",
    "WITH base AS (\n",
    "SELECT\n",
    "    s2.event_date AS first_date,\n",
    "    s2.country,\n",
    "    s2.platform,\n",
    "    DATE_DIFF(s1.event_date, s2.event_date, DAY) AS cohort_day,\n",
    "    s1.*,\n",
    "    ROW_NUMBER() OVER(PARTITION BY s1.user_pseudo_id ORDER BY s1.event_timestamp ASC) AS iap_order\n",
    "FROM `{project_id}.{schema_id}.in_app_purchase` s1\n",
    "JOIN `{project_id}.{schema_id}.first_open` s2\n",
    "    ON s1.user_pseudo_id = s2.user_pseudo_id\n",
    "    AND s1.event_date >= s2.event_date\n",
    "WHERE s2.user_pseudo_id IN {tuple(users_drop_imme)}\n",
    ")\n",
    ", base1 AS (\n",
    "SELECT\n",
    "    user_pseudo_id,\n",
    "    event_timestamp,\n",
    "    product_id,\n",
    "FROM base\n",
    "WHERE iap_order = 1\n",
    ")\n",
    "SELECT\n",
    "  s1.user_pseudo_id,\n",
    "  s1.event_timestamp AS ts_first_iap,\n",
    "  product_id AS first_product_iap,\n",
    "  s2.event_name,\n",
    "  s2.event_date,\n",
    "  s2.event_timestamp\n",
    "FROM base1 s1\n",
    "LEFT JOIN `{project_id}.{schema_id}.user_fact` s2\n",
    "  ON s1.user_pseudo_id = s2.user_pseudo_id\n",
    "  AND s2.event_timestamp >= s1.event_timestamp\n",
    "WHERE s2.event_name IN {tuple(event_list)}\n",
    "ORDER BY user_pseudo_id, ts_first_iap, event_timestamp\n",
    "\"\"\"\n",
    "rs_drop_data = client.query(query_rs_drop).to_dataframe()\n",
    "rs_drop_data['user_pseudo_id'].nunique()"
   ],
   "id": "c899028ff69a5a15",
   "outputs": [
    {
     "data": {
      "text/plain": [
       "56"
      ]
     },
     "execution_count": 144,
     "metadata": {},
     "output_type": "execute_result"
    }
   ],
   "execution_count": 144
  },
  {
   "metadata": {
    "ExecuteTime": {
     "end_time": "2025-08-18T07:53:45.326276Z",
     "start_time": "2025-08-18T07:53:41.779261Z"
    }
   },
   "cell_type": "code",
   "source": [
    "rs_drop_level = f\"\"\"\n",
    "WITH base AS (\n",
    "SELECT\n",
    "    user_pseudo_id,\n",
    "    MIN(event_timestamp) AS start_level_ts,\n",
    "    level\n",
    "FROM `{project_id}.{schema_id}.start_level`\n",
    "WHERE user_pseudo_id IN {tuple(users_drop_imme)}\n",
    "GROUP BY user_pseudo_id, level\n",
    ")\n",
    ", base1 AS (\n",
    "SELECT\n",
    "    user_pseudo_id,\n",
    "    start_level_ts,\n",
    "    LEAD(start_level_ts) OVER(PARTITION BY user_pseudo_id ORDER BY start_level_ts) AS next_start_level_ts,\n",
    "    level,\n",
    "    LEAD(level) OVER(PARTITION BY user_pseudo_id ORDER BY start_level_ts) AS next_level\n",
    "FROM base\n",
    ")\n",
    "SELECT\n",
    "    s1.user_pseudo_id,\n",
    "    start_level_ts,\n",
    "    next_start_level_ts,\n",
    "    level,\n",
    "    next_level,\n",
    "    COUNT(DISTINCT s2.event_timestamp) AS iap_count,\n",
    "    SUM(event_value_in_usd) AS iap_revenue\n",
    "FROM base1 s1\n",
    "LEFT JOIN `{project_id}.{schema_id}.in_app_purchase` s2\n",
    "    ON s1.user_pseudo_id = s2.user_pseudo_id\n",
    "    AND s2.event_timestamp >= s1.start_level_ts\n",
    "    AND ((s2.event_timestamp <= s1.next_start_level_ts) OR (s1.next_start_level_ts IS NULL))\n",
    "GROUP BY user_pseudo_id, start_level_ts, next_start_level_ts, level, next_level\n",
    "ORDER BY user_pseudo_id, start_level_ts\n",
    "\"\"\"\n",
    "rs_drop_level = client.query(rs_drop_level).to_dataframe()\n",
    "rs_drop_level['iap_revenue'] = rs_drop_level['iap_revenue'].fillna(0)\n",
    "rs_drop_level['user_pseudo_id'].nunique()"
   ],
   "id": "a66378d25b17e377",
   "outputs": [
    {
     "data": {
      "text/plain": [
       "56"
      ]
     },
     "execution_count": 145,
     "metadata": {},
     "output_type": "execute_result"
    }
   ],
   "execution_count": 145
  },
  {
   "metadata": {
    "ExecuteTime": {
     "end_time": "2025-08-18T07:53:45.836129Z",
     "start_time": "2025-08-18T07:53:45.426217Z"
    }
   },
   "cell_type": "code",
   "source": [
    "first_level_iap_rs = rs_drop_level[rs_drop_level['iap_count'] > 0].groupby('level')['user_pseudo_id'].nunique().reset_index()\n",
    "first_level_iap_rs['total_users_cum'] = first_level_iap_rs['user_pseudo_id'].cumsum()\n",
    "first_level_iap_rs['iap_rate'] = first_level_iap_rs['total_users_cum'] / (first_level_iap_rs['user_pseudo_id'].sum())\n",
    "\n",
    "fig, ax = plt.subplots(figsize=(10, 6))\n",
    "sns.barplot(data= first_level_iap_rs, x='level', y='iap_rate', ax=ax)\n",
    "ax.set_title('IAP Rate by Level for Users Who Bought Remove Ads First')\n",
    "ax.set_xlabel('Level')\n",
    "ax.set_ylabel('IAP Rate')\n",
    "ax.yaxis.set_major_formatter(FuncFormatter(lambda x, _: f'{x:.0%}'))\n",
    "ax.yaxis.set_major_locator(MultipleLocator(0.1))\n",
    "ax.xaxis.set_major_locator(MaxNLocator(integer=True))\n",
    "ax.xaxis.set_major_locator(MultipleLocator(1))\n",
    "plt.xticks(rotation=30)\n",
    "plt.tight_layout()\n",
    "plt.show()"
   ],
   "id": "3a03e64b0dcf895f",
   "outputs": [
    {
     "data": {
      "text/plain": [
       "<Figure size 1000x600 with 1 Axes>"
      ],
      "image/png": "[encoded data removed]"
     },
     "metadata": {},
     "output_type": "display_data"
    }
   ],
   "execution_count": 146
  },
  {
   "metadata": {
    "ExecuteTime": {
     "end_time": "2025-08-18T07:54:38.457292Z",
     "start_time": "2025-08-18T07:54:38.124611Z"
    }
   },
   "cell_type": "code",
   "source": [
    "last_level_played = rs_drop_level.groupby('user_pseudo_id')['level'].max().reset_index()\n",
    "last_level_played = last_level_played.groupby('level')['user_pseudo_id'].nunique().reset_index(name='total_users')\n",
    "last_level_played['total_users_cum'] = last_level_played['total_users'].cumsum()\n",
    "last_level_played['drop_rate_cum'] = last_level_played['total_users_cum'] / (last_level_played['total_users'].sum())\n",
    "\n",
    "fig, ax = plt.subplots(figsize=(10, 6))\n",
    "sns.barplot(data= last_level_played, x='level', y='drop_rate_cum', ax=ax)\n",
    "ax.set_title('Drop Rate Cumulative by Level for Users Who Bought Remove Ads First')\n",
    "ax.set_xlabel('Level')\n",
    "ax.set_ylabel('Drop Rate Cumulative')\n",
    "ax.yaxis.set_major_formatter(FuncFormatter(lambda x, _: f'{x:.0%}'))\n",
    "ax.yaxis.set_major_locator(MultipleLocator(0.1))\n",
    "ax.xaxis.set_major_locator(MaxNLocator(integer=True))\n",
    "ax.xaxis.set_major_locator(MultipleLocator(1))\n",
    "plt.xticks(rotation=30)\n",
    "plt.tight_layout()\n",
    "plt.show()"
   ],
   "id": "d207a323d1be8cb0",
   "outputs": [
    {
     "data": {
      "text/plain": [
       "<Figure size 1000x600 with 1 Axes>"
      ],
      "image/png": "[encoded data removed]"
     },
     "metadata": {},
     "output_type": "display_data"
    }
   ],
   "execution_count": 148
  },
  {
   "metadata": {
    "ExecuteTime": {
     "end_time": "2025-08-18T07:55:35.916582Z",
     "start_time": "2025-08-18T07:55:35.690532Z"
    }
   },
   "cell_type": "code",
   "source": [
    "rs_drop_level['level_drop'] = (\n",
    "    rs_drop_level.groupby('user_pseudo_id')['level']\n",
    "    .transform('max')\n",
    ")\n",
    "iap_to_drop = rs_drop_level[rs_drop_level['iap_count'] > 0].copy()\n",
    "iap_to_drop['level_diff'] = iap_to_drop['level_drop'] - iap_to_drop['level']\n",
    "\n",
    "# Tính ngưỡng 75%\n",
    "q80 = iap_to_drop['level_diff'].dropna().quantile(0.80)\n",
    "\n",
    "fig, ax = plt.subplots(figsize=(8,4))\n",
    "sns.histplot(\n",
    "    data=iap_to_drop,\n",
    "    x='level_diff',\n",
    "    bins=30,\n",
    "    kde=True,\n",
    "    stat='density',\n",
    "    edgecolor='black',\n",
    "    ax=ax\n",
    ")\n",
    "\n",
    "ax.axvline(q80, linestyle='--', linewidth=2, color='red', label=f'80th pct = {q80:.2f}')\n",
    "ax.axvspan(iap_to_drop['level_diff'].min(), q80, alpha=0.12)\n",
    "\n",
    "ax.set_title('Distribution of Level Difference from IAP to Drop')\n",
    "ax.set_xlabel('Level Difference (Drop Level - IAP Level)')\n",
    "ax.set_ylabel('Density')\n",
    "ax.grid(axis='y', linestyle='--', alpha=0.7)\n",
    "ax.legend()\n",
    "plt.tight_layout()\n",
    "plt.show()"
   ],
   "id": "41e43029615997e5",
   "outputs": [
    {
     "data": {
      "text/plain": [
       "<Figure size 800x400 with 1 Axes>"
      ],
      "image/png": "[encoded data removed]"
     },
     "metadata": {},
     "output_type": "display_data"
    }
   ],
   "execution_count": 150
  },
  {
   "metadata": {},
   "cell_type": "markdown",
   "source": [
    "Trong số 24% Users Drop sau khi mua IAP các gói Resources:\n",
    "- Gần 90% users mua trước level 53\n",
    "- Gần 90% users drop trước level 57\n",
    "- 80% users chơi tiếp tối đa khoảng 7 levels trước khi drop"
   ],
   "id": "cfc13f68cef5eae7"
  },
  {
   "metadata": {},
   "cell_type": "markdown",
   "source": [
    "\n",
    "**Kết Luận:**\n",
    "- Trong số 71% Users mua tiếp gói IAP thứ hai:\n",
    "    - 80% users mua iap lần đầu trước level 47\n",
    "    - 80% users sẽ mua tiếp gói iap thứ hai trước level 50\n",
    "    - 80% users sẽ chơi tiếp khoảng 10 levels rồi mua gói IAP thứ hai.\n",
    "\n",
    "/\n",
    "\n",
    "- Trong số 24% Users Drop sau khi mua IAP các gói Resources:\n",
    "    - Gần 90% users mua trước level 53\n",
    "    - Gần 90% users drop trước level 57\n",
    "    - 80% users chơi tiếp tối đa khoảng 7 levels trước khi drop\n",
    "\n",
    "****\n",
    "**Đề xuất:**\n",
    "- Sau khi users mua các gói Resources lần đầu, sẽ mở lại tài nguyên khoảng 3 levels 1 lần"
   ],
   "id": "42fa4ec01d219a2"
  }
 ],
 "metadata": {
  "kernelspec": {
   "display_name": "Python 3",
   "language": "python",
   "name": "python3"
  },
  "language_info": {
   "codemirror_mode": {
    "name": "ipython",
    "version": 2
   },
   "file_extension": ".py",
   "mimetype": "text/x-python",
   "name": "python",
   "nbconvert_exporter": "python",
   "pygments_lexer": "ipython2",
   "version": "2.7.6"
  }
 },
 "nbformat": 4,
 "nbformat_minor": 5
}
